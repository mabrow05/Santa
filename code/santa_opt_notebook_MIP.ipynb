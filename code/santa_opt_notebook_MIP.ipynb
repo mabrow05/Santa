{
 "cells": [
  {
   "cell_type": "code",
   "execution_count": 2,
   "metadata": {},
   "outputs": [
    {
     "name": "stdout",
     "output_type": "stream",
     "text": [
      "Using Python-MIP package version 1.6.3\n"
     ]
    }
   ],
   "source": [
    "import pandas as pd\n",
    "import numpy as np\n",
    "\n",
    "import matplotlib.pyplot as plt\n",
    "\n",
    "from mip.model import *"
   ]
  },
  {
   "cell_type": "code",
   "execution_count": 3,
   "metadata": {},
   "outputs": [
    {
     "data": {
      "text/html": [
       "<div>\n",
       "<style scoped>\n",
       "    .dataframe tbody tr th:only-of-type {\n",
       "        vertical-align: middle;\n",
       "    }\n",
       "\n",
       "    .dataframe tbody tr th {\n",
       "        vertical-align: top;\n",
       "    }\n",
       "\n",
       "    .dataframe thead th {\n",
       "        text-align: right;\n",
       "    }\n",
       "</style>\n",
       "<table border=\"1\" class=\"dataframe\">\n",
       "  <thead>\n",
       "    <tr style=\"text-align: right;\">\n",
       "      <th></th>\n",
       "      <th>choice_0</th>\n",
       "      <th>choice_1</th>\n",
       "      <th>choice_2</th>\n",
       "      <th>choice_3</th>\n",
       "      <th>choice_4</th>\n",
       "      <th>choice_5</th>\n",
       "      <th>choice_6</th>\n",
       "      <th>choice_7</th>\n",
       "      <th>choice_8</th>\n",
       "      <th>choice_9</th>\n",
       "      <th>n_people</th>\n",
       "    </tr>\n",
       "    <tr>\n",
       "      <th>family_id</th>\n",
       "      <th></th>\n",
       "      <th></th>\n",
       "      <th></th>\n",
       "      <th></th>\n",
       "      <th></th>\n",
       "      <th></th>\n",
       "      <th></th>\n",
       "      <th></th>\n",
       "      <th></th>\n",
       "      <th></th>\n",
       "      <th></th>\n",
       "    </tr>\n",
       "  </thead>\n",
       "  <tbody>\n",
       "    <tr>\n",
       "      <th>0</th>\n",
       "      <td>52</td>\n",
       "      <td>38</td>\n",
       "      <td>12</td>\n",
       "      <td>82</td>\n",
       "      <td>33</td>\n",
       "      <td>75</td>\n",
       "      <td>64</td>\n",
       "      <td>76</td>\n",
       "      <td>10</td>\n",
       "      <td>28</td>\n",
       "      <td>4</td>\n",
       "    </tr>\n",
       "    <tr>\n",
       "      <th>1</th>\n",
       "      <td>26</td>\n",
       "      <td>4</td>\n",
       "      <td>82</td>\n",
       "      <td>5</td>\n",
       "      <td>11</td>\n",
       "      <td>47</td>\n",
       "      <td>38</td>\n",
       "      <td>6</td>\n",
       "      <td>66</td>\n",
       "      <td>61</td>\n",
       "      <td>4</td>\n",
       "    </tr>\n",
       "    <tr>\n",
       "      <th>2</th>\n",
       "      <td>100</td>\n",
       "      <td>54</td>\n",
       "      <td>25</td>\n",
       "      <td>12</td>\n",
       "      <td>27</td>\n",
       "      <td>82</td>\n",
       "      <td>10</td>\n",
       "      <td>89</td>\n",
       "      <td>80</td>\n",
       "      <td>33</td>\n",
       "      <td>3</td>\n",
       "    </tr>\n",
       "    <tr>\n",
       "      <th>3</th>\n",
       "      <td>2</td>\n",
       "      <td>95</td>\n",
       "      <td>1</td>\n",
       "      <td>96</td>\n",
       "      <td>32</td>\n",
       "      <td>6</td>\n",
       "      <td>40</td>\n",
       "      <td>31</td>\n",
       "      <td>9</td>\n",
       "      <td>59</td>\n",
       "      <td>2</td>\n",
       "    </tr>\n",
       "    <tr>\n",
       "      <th>4</th>\n",
       "      <td>53</td>\n",
       "      <td>1</td>\n",
       "      <td>47</td>\n",
       "      <td>93</td>\n",
       "      <td>26</td>\n",
       "      <td>3</td>\n",
       "      <td>46</td>\n",
       "      <td>16</td>\n",
       "      <td>42</td>\n",
       "      <td>39</td>\n",
       "      <td>4</td>\n",
       "    </tr>\n",
       "  </tbody>\n",
       "</table>\n",
       "</div>"
      ],
      "text/plain": [
       "           choice_0  choice_1  choice_2  choice_3  choice_4  choice_5  \\\n",
       "family_id                                                               \n",
       "0                52        38        12        82        33        75   \n",
       "1                26         4        82         5        11        47   \n",
       "2               100        54        25        12        27        82   \n",
       "3                 2        95         1        96        32         6   \n",
       "4                53         1        47        93        26         3   \n",
       "\n",
       "           choice_6  choice_7  choice_8  choice_9  n_people  \n",
       "family_id                                                    \n",
       "0                64        76        10        28         4  \n",
       "1                38         6        66        61         4  \n",
       "2                10        89        80        33         3  \n",
       "3                40        31         9        59         2  \n",
       "4                46        16        42        39         4  "
      ]
     },
     "execution_count": 3,
     "metadata": {},
     "output_type": "execute_result"
    }
   ],
   "source": [
    "# importing the data to take a look at what we have\n",
    "\n",
    "df = pd.read_csv('../data/family_data.csv',index_col=0)\n",
    "\n",
    "df.head()"
   ]
  },
  {
   "cell_type": "code",
   "execution_count": 401,
   "metadata": {},
   "outputs": [
    {
     "data": {
      "text/plain": [
       "day\n",
       "1     2.4\n",
       "5     2.4\n",
       "17    2.4\n",
       "18    2.4\n",
       "46    2.4\n",
       "Name: penalty, dtype: float64"
      ]
     },
     "execution_count": 401,
     "metadata": {},
     "output_type": "execute_result"
    }
   ],
   "source": [
    "# load the penalties for days with high traffic\n",
    "day_penalty = pd.read_csv('day_penalty.txt',sep='\\t',index_col=0)['penalty']\n",
    "day_penalty.head()"
   ]
  },
  {
   "cell_type": "code",
   "execution_count": 402,
   "metadata": {},
   "outputs": [
    {
     "data": {
      "text/plain": [
       "2.4"
      ]
     },
     "execution_count": 402,
     "metadata": {},
     "output_type": "execute_result"
    }
   ],
   "source": [
    "day_penalty[5]"
   ]
  },
  {
   "cell_type": "code",
   "execution_count": 187,
   "metadata": {},
   "outputs": [],
   "source": [
    "# for testing\n",
    "num_days=100\n",
    "num_families = 5000"
   ]
  },
  {
   "cell_type": "code",
   "execution_count": 188,
   "metadata": {},
   "outputs": [],
   "source": [
    "df2 = df[:num_families].copy()"
   ]
  },
  {
   "cell_type": "code",
   "execution_count": 189,
   "metadata": {},
   "outputs": [],
   "source": [
    "#people scaling \n",
    "people_scale = df2.n_people.sum()/df.n_people.sum()\n",
    "\n",
    "max_people = np.around(1.5*df2.n_people.sum()/num_days)\n",
    "min_people = np.around(df2.n_people.sum()/2/num_days)\n",
    "\n",
    "if num_days==100 and num_families==5000:\n",
    "    max_people = 300\n",
    "    min_people = 125\n",
    "\n",
    "# day scaling\n",
    "day_scale = num_days/100"
   ]
  },
  {
   "cell_type": "code",
   "execution_count": 190,
   "metadata": {},
   "outputs": [
    {
     "name": "stdout",
     "output_type": "stream",
     "text": [
      "300\n",
      "125\n",
      "1.0\n",
      "1.0\n"
     ]
    }
   ],
   "source": [
    "print(max_people)\n",
    "print(min_people)\n",
    "print(day_scale)\n",
    "print(people_scale)"
   ]
  },
  {
   "cell_type": "code",
   "execution_count": 191,
   "metadata": {},
   "outputs": [],
   "source": [
    "if num_days!=100:\n",
    "    for c in df2.columns.tolist()[:10]:\n",
    "        df2[c] = np.random.randint(1,num_days+1,num_families)"
   ]
  },
  {
   "cell_type": "code",
   "execution_count": 192,
   "metadata": {},
   "outputs": [
    {
     "data": {
      "text/html": [
       "<div>\n",
       "<style scoped>\n",
       "    .dataframe tbody tr th:only-of-type {\n",
       "        vertical-align: middle;\n",
       "    }\n",
       "\n",
       "    .dataframe tbody tr th {\n",
       "        vertical-align: top;\n",
       "    }\n",
       "\n",
       "    .dataframe thead th {\n",
       "        text-align: right;\n",
       "    }\n",
       "</style>\n",
       "<table border=\"1\" class=\"dataframe\">\n",
       "  <thead>\n",
       "    <tr style=\"text-align: right;\">\n",
       "      <th></th>\n",
       "      <th>choice_0</th>\n",
       "      <th>choice_1</th>\n",
       "      <th>choice_2</th>\n",
       "      <th>choice_3</th>\n",
       "      <th>choice_4</th>\n",
       "      <th>choice_5</th>\n",
       "      <th>choice_6</th>\n",
       "      <th>choice_7</th>\n",
       "      <th>choice_8</th>\n",
       "      <th>choice_9</th>\n",
       "      <th>n_people</th>\n",
       "    </tr>\n",
       "    <tr>\n",
       "      <th>family_id</th>\n",
       "      <th></th>\n",
       "      <th></th>\n",
       "      <th></th>\n",
       "      <th></th>\n",
       "      <th></th>\n",
       "      <th></th>\n",
       "      <th></th>\n",
       "      <th></th>\n",
       "      <th></th>\n",
       "      <th></th>\n",
       "      <th></th>\n",
       "    </tr>\n",
       "  </thead>\n",
       "  <tbody>\n",
       "    <tr>\n",
       "      <th>0</th>\n",
       "      <td>52</td>\n",
       "      <td>38</td>\n",
       "      <td>12</td>\n",
       "      <td>82</td>\n",
       "      <td>33</td>\n",
       "      <td>75</td>\n",
       "      <td>64</td>\n",
       "      <td>76</td>\n",
       "      <td>10</td>\n",
       "      <td>28</td>\n",
       "      <td>4</td>\n",
       "    </tr>\n",
       "    <tr>\n",
       "      <th>1</th>\n",
       "      <td>26</td>\n",
       "      <td>4</td>\n",
       "      <td>82</td>\n",
       "      <td>5</td>\n",
       "      <td>11</td>\n",
       "      <td>47</td>\n",
       "      <td>38</td>\n",
       "      <td>6</td>\n",
       "      <td>66</td>\n",
       "      <td>61</td>\n",
       "      <td>4</td>\n",
       "    </tr>\n",
       "    <tr>\n",
       "      <th>2</th>\n",
       "      <td>100</td>\n",
       "      <td>54</td>\n",
       "      <td>25</td>\n",
       "      <td>12</td>\n",
       "      <td>27</td>\n",
       "      <td>82</td>\n",
       "      <td>10</td>\n",
       "      <td>89</td>\n",
       "      <td>80</td>\n",
       "      <td>33</td>\n",
       "      <td>3</td>\n",
       "    </tr>\n",
       "    <tr>\n",
       "      <th>3</th>\n",
       "      <td>2</td>\n",
       "      <td>95</td>\n",
       "      <td>1</td>\n",
       "      <td>96</td>\n",
       "      <td>32</td>\n",
       "      <td>6</td>\n",
       "      <td>40</td>\n",
       "      <td>31</td>\n",
       "      <td>9</td>\n",
       "      <td>59</td>\n",
       "      <td>2</td>\n",
       "    </tr>\n",
       "    <tr>\n",
       "      <th>4</th>\n",
       "      <td>53</td>\n",
       "      <td>1</td>\n",
       "      <td>47</td>\n",
       "      <td>93</td>\n",
       "      <td>26</td>\n",
       "      <td>3</td>\n",
       "      <td>46</td>\n",
       "      <td>16</td>\n",
       "      <td>42</td>\n",
       "      <td>39</td>\n",
       "      <td>4</td>\n",
       "    </tr>\n",
       "  </tbody>\n",
       "</table>\n",
       "</div>"
      ],
      "text/plain": [
       "           choice_0  choice_1  choice_2  choice_3  choice_4  choice_5  \\\n",
       "family_id                                                               \n",
       "0                52        38        12        82        33        75   \n",
       "1                26         4        82         5        11        47   \n",
       "2               100        54        25        12        27        82   \n",
       "3                 2        95         1        96        32         6   \n",
       "4                53         1        47        93        26         3   \n",
       "\n",
       "           choice_6  choice_7  choice_8  choice_9  n_people  \n",
       "family_id                                                    \n",
       "0                64        76        10        28         4  \n",
       "1                38         6        66        61         4  \n",
       "2                10        89        80        33         3  \n",
       "3                40        31         9        59         2  \n",
       "4                46        16        42        39         4  "
      ]
     },
     "execution_count": 192,
     "metadata": {},
     "output_type": "execute_result"
    }
   ],
   "source": [
    "df2.head()"
   ]
  },
  {
   "cell_type": "code",
   "execution_count": 193,
   "metadata": {},
   "outputs": [],
   "source": [
    "# I'm going to add a column which will represent the choice falling outside of any of the given choices. \n",
    "# This will be choice_10, and it will be 101,,,"
   ]
  },
  {
   "cell_type": "code",
   "execution_count": 194,
   "metadata": {},
   "outputs": [
    {
     "data": {
      "text/html": [
       "<div>\n",
       "<style scoped>\n",
       "    .dataframe tbody tr th:only-of-type {\n",
       "        vertical-align: middle;\n",
       "    }\n",
       "\n",
       "    .dataframe tbody tr th {\n",
       "        vertical-align: top;\n",
       "    }\n",
       "\n",
       "    .dataframe thead th {\n",
       "        text-align: right;\n",
       "    }\n",
       "</style>\n",
       "<table border=\"1\" class=\"dataframe\">\n",
       "  <thead>\n",
       "    <tr style=\"text-align: right;\">\n",
       "      <th></th>\n",
       "      <th>choice_0</th>\n",
       "      <th>choice_1</th>\n",
       "      <th>choice_2</th>\n",
       "      <th>choice_3</th>\n",
       "      <th>choice_4</th>\n",
       "      <th>choice_5</th>\n",
       "      <th>choice_6</th>\n",
       "      <th>choice_7</th>\n",
       "      <th>choice_8</th>\n",
       "      <th>choice_9</th>\n",
       "      <th>n_people</th>\n",
       "    </tr>\n",
       "  </thead>\n",
       "  <tbody>\n",
       "    <tr>\n",
       "      <th>count</th>\n",
       "      <td>5000.000000</td>\n",
       "      <td>5000.000000</td>\n",
       "      <td>5000.000000</td>\n",
       "      <td>5000.000000</td>\n",
       "      <td>5000.000000</td>\n",
       "      <td>5000.00000</td>\n",
       "      <td>5000.000000</td>\n",
       "      <td>5000.000000</td>\n",
       "      <td>5000.00000</td>\n",
       "      <td>5000.000000</td>\n",
       "      <td>5000.00000</td>\n",
       "    </tr>\n",
       "    <tr>\n",
       "      <th>mean</th>\n",
       "      <td>40.715000</td>\n",
       "      <td>41.601000</td>\n",
       "      <td>41.194200</td>\n",
       "      <td>41.595000</td>\n",
       "      <td>41.950600</td>\n",
       "      <td>42.63520</td>\n",
       "      <td>41.965000</td>\n",
       "      <td>42.739600</td>\n",
       "      <td>42.33900</td>\n",
       "      <td>42.608200</td>\n",
       "      <td>4.20060</td>\n",
       "    </tr>\n",
       "    <tr>\n",
       "      <th>std</th>\n",
       "      <td>29.054208</td>\n",
       "      <td>29.518375</td>\n",
       "      <td>28.821878</td>\n",
       "      <td>29.094602</td>\n",
       "      <td>29.045049</td>\n",
       "      <td>28.98729</td>\n",
       "      <td>28.711089</td>\n",
       "      <td>28.959156</td>\n",
       "      <td>28.69832</td>\n",
       "      <td>28.116088</td>\n",
       "      <td>1.53272</td>\n",
       "    </tr>\n",
       "    <tr>\n",
       "      <th>min</th>\n",
       "      <td>1.000000</td>\n",
       "      <td>1.000000</td>\n",
       "      <td>1.000000</td>\n",
       "      <td>1.000000</td>\n",
       "      <td>1.000000</td>\n",
       "      <td>1.00000</td>\n",
       "      <td>1.000000</td>\n",
       "      <td>1.000000</td>\n",
       "      <td>1.00000</td>\n",
       "      <td>1.000000</td>\n",
       "      <td>2.00000</td>\n",
       "    </tr>\n",
       "    <tr>\n",
       "      <th>25%</th>\n",
       "      <td>16.000000</td>\n",
       "      <td>16.000000</td>\n",
       "      <td>17.000000</td>\n",
       "      <td>17.000000</td>\n",
       "      <td>17.000000</td>\n",
       "      <td>18.00000</td>\n",
       "      <td>17.000000</td>\n",
       "      <td>18.000000</td>\n",
       "      <td>17.00000</td>\n",
       "      <td>19.000000</td>\n",
       "      <td>3.00000</td>\n",
       "    </tr>\n",
       "    <tr>\n",
       "      <th>50%</th>\n",
       "      <td>38.000000</td>\n",
       "      <td>38.000000</td>\n",
       "      <td>38.000000</td>\n",
       "      <td>39.000000</td>\n",
       "      <td>39.000000</td>\n",
       "      <td>40.00000</td>\n",
       "      <td>39.000000</td>\n",
       "      <td>39.000000</td>\n",
       "      <td>39.00000</td>\n",
       "      <td>39.000000</td>\n",
       "      <td>4.00000</td>\n",
       "    </tr>\n",
       "    <tr>\n",
       "      <th>75%</th>\n",
       "      <td>62.000000</td>\n",
       "      <td>66.000000</td>\n",
       "      <td>63.000000</td>\n",
       "      <td>66.000000</td>\n",
       "      <td>66.000000</td>\n",
       "      <td>66.00000</td>\n",
       "      <td>66.000000</td>\n",
       "      <td>67.000000</td>\n",
       "      <td>66.00000</td>\n",
       "      <td>66.000000</td>\n",
       "      <td>5.00000</td>\n",
       "    </tr>\n",
       "    <tr>\n",
       "      <th>max</th>\n",
       "      <td>100.000000</td>\n",
       "      <td>100.000000</td>\n",
       "      <td>100.000000</td>\n",
       "      <td>100.000000</td>\n",
       "      <td>100.000000</td>\n",
       "      <td>100.00000</td>\n",
       "      <td>100.000000</td>\n",
       "      <td>100.000000</td>\n",
       "      <td>100.00000</td>\n",
       "      <td>100.000000</td>\n",
       "      <td>8.00000</td>\n",
       "    </tr>\n",
       "  </tbody>\n",
       "</table>\n",
       "</div>"
      ],
      "text/plain": [
       "          choice_0     choice_1     choice_2     choice_3     choice_4  \\\n",
       "count  5000.000000  5000.000000  5000.000000  5000.000000  5000.000000   \n",
       "mean     40.715000    41.601000    41.194200    41.595000    41.950600   \n",
       "std      29.054208    29.518375    28.821878    29.094602    29.045049   \n",
       "min       1.000000     1.000000     1.000000     1.000000     1.000000   \n",
       "25%      16.000000    16.000000    17.000000    17.000000    17.000000   \n",
       "50%      38.000000    38.000000    38.000000    39.000000    39.000000   \n",
       "75%      62.000000    66.000000    63.000000    66.000000    66.000000   \n",
       "max     100.000000   100.000000   100.000000   100.000000   100.000000   \n",
       "\n",
       "         choice_5     choice_6     choice_7    choice_8     choice_9  \\\n",
       "count  5000.00000  5000.000000  5000.000000  5000.00000  5000.000000   \n",
       "mean     42.63520    41.965000    42.739600    42.33900    42.608200   \n",
       "std      28.98729    28.711089    28.959156    28.69832    28.116088   \n",
       "min       1.00000     1.000000     1.000000     1.00000     1.000000   \n",
       "25%      18.00000    17.000000    18.000000    17.00000    19.000000   \n",
       "50%      40.00000    39.000000    39.000000    39.00000    39.000000   \n",
       "75%      66.00000    66.000000    67.000000    66.00000    66.000000   \n",
       "max     100.00000   100.000000   100.000000   100.00000   100.000000   \n",
       "\n",
       "         n_people  \n",
       "count  5000.00000  \n",
       "mean      4.20060  \n",
       "std       1.53272  \n",
       "min       2.00000  \n",
       "25%       3.00000  \n",
       "50%       4.00000  \n",
       "75%       5.00000  \n",
       "max       8.00000  "
      ]
     },
     "execution_count": 194,
     "metadata": {},
     "output_type": "execute_result"
    }
   ],
   "source": [
    "df2.describe()"
   ]
  },
  {
   "cell_type": "code",
   "execution_count": 195,
   "metadata": {},
   "outputs": [
    {
     "data": {
      "text/plain": [
       "<matplotlib.axes._subplots.AxesSubplot at 0x7f3b4f3a16d0>"
      ]
     },
     "execution_count": 195,
     "metadata": {},
     "output_type": "execute_result"
    },
    {
     "data": {
      "image/png": "[encoded data removed]",
      "text/plain": [
       "<Figure size 432x288 with 1 Axes>"
      ]
     },
     "metadata": {
      "needs_background": "light"
     },
     "output_type": "display_data"
    }
   ],
   "source": [
    "df2['choice_0'].hist(bins=[b for b in range(1,num_days+2,1)])"
   ]
  },
  {
   "cell_type": "code",
   "execution_count": 196,
   "metadata": {},
   "outputs": [],
   "source": [
    "lower_limit = min_people\n",
    "upper_limit = max_people\n",
    "\n",
    "# creating the decision variables\n",
    "choice = ['choice_0','choice_1', 'choice_2', 'choice_3', 'choice_4', 'choice_5', \n",
    "          'choice_6', 'choice_7', 'choice_8', 'choice_9','choice_10']\n",
    "day = [i for i in range(1,num_days+1)]\n",
    "fam_id = df2.index.tolist()\n",
    "n_people = df['n_people'].to_dict()"
   ]
  },
  {
   "cell_type": "code",
   "execution_count": 197,
   "metadata": {},
   "outputs": [
    {
     "name": "stdout",
     "output_type": "stream",
     "text": [
      "0/5000\n",
      "100/5000\n",
      "200/5000\n",
      "300/5000\n",
      "400/5000\n",
      "500/5000\n",
      "600/5000\n",
      "700/5000\n",
      "800/5000\n",
      "900/5000\n",
      "1000/5000\n",
      "1100/5000\n",
      "1200/5000\n",
      "1300/5000\n",
      "1400/5000\n",
      "1500/5000\n",
      "1600/5000\n",
      "1700/5000\n",
      "1800/5000\n",
      "1900/5000\n",
      "2000/5000\n",
      "2100/5000\n",
      "2200/5000\n",
      "2300/5000\n",
      "2400/5000\n",
      "2500/5000\n",
      "2600/5000\n",
      "2700/5000\n",
      "2800/5000\n",
      "2900/5000\n",
      "3000/5000\n",
      "3100/5000\n",
      "3200/5000\n",
      "3300/5000\n",
      "3400/5000\n",
      "3500/5000\n",
      "3600/5000\n",
      "3700/5000\n",
      "3800/5000\n",
      "3900/5000\n",
      "4000/5000\n",
      "4100/5000\n",
      "4200/5000\n",
      "4300/5000\n",
      "4400/5000\n",
      "4500/5000\n",
      "4600/5000\n",
      "4700/5000\n",
      "4800/5000\n",
      "4900/5000\n"
     ]
    }
   ],
   "source": [
    "choice_matrix = {}\n",
    "\n",
    "for f in fam_id:\n",
    "    \n",
    "    if f%100==0:\n",
    "        print('{}/{}'.format(f,len(df2)))\n",
    "    \n",
    "    choice_matrix[f] = {}\n",
    "    \n",
    "    for d in day:\n",
    "        \n",
    "        choice_to_check = df2.loc[f,df2.columns.tolist()[:10]].values\n",
    "        \n",
    "        if d in choice_to_check:\n",
    "            c_loc = np.where(choice_to_check==d)[0][0]\n",
    "        else:\n",
    "            c_loc = 10\n",
    "            \n",
    "            \n",
    "        choice_matrix[f][d] = {c:(0 if i!=c_loc else 1) for i,c in enumerate(choice)} "
   ]
  },
  {
   "cell_type": "code",
   "execution_count": 198,
   "metadata": {},
   "outputs": [],
   "source": [
    "# gift card contribution by choice\n",
    "choice_gc = {}\n",
    "choice_gc['choice_0'] = 0\n",
    "choice_gc['choice_1'] = 50\n",
    "choice_gc['choice_2'] = 50\n",
    "choice_gc['choice_3'] = 100\n",
    "choice_gc['choice_4'] = 200\n",
    "choice_gc['choice_5'] = 200\n",
    "choice_gc['choice_6'] = 300\n",
    "choice_gc['choice_7'] = 300\n",
    "choice_gc['choice_8'] = 400\n",
    "choice_gc['choice_9'] = 500\n",
    "choice_gc['choice_10'] = 500\n",
    "\n",
    "# per member monetary contribution\n",
    "choice_pm = {}\n",
    "choice_pm['choice_0'] = 0\n",
    "choice_pm['choice_1'] = 0\n",
    "choice_pm['choice_2'] = 9\n",
    "choice_pm['choice_3'] = 9\n",
    "choice_pm['choice_4'] = 9\n",
    "choice_pm['choice_5'] = 18\n",
    "choice_pm['choice_6'] = 18\n",
    "choice_pm['choice_7'] = 36\n",
    "choice_pm['choice_8'] = 36\n",
    "choice_pm['choice_9'] = 36+199\n",
    "choice_pm['choice_10'] = 36+398\n"
   ]
  },
  {
   "cell_type": "code",
   "execution_count": null,
   "metadata": {},
   "outputs": [],
   "source": []
  },
  {
   "cell_type": "markdown",
   "metadata": {},
   "source": [
    "Create a lookup table for the accounting penalty"
   ]
  },
  {
   "cell_type": "code",
   "execution_count": 199,
   "metadata": {},
   "outputs": [],
   "source": [
    "def accounting_penalty_actual(Nd,diff):\n",
    "    return 300/max_people*(Nd-min_people)/400 * Nd**(0.5+diff/50)"
   ]
  },
  {
   "cell_type": "code",
   "execution_count": 200,
   "metadata": {},
   "outputs": [],
   "source": [
    "acc_table = {}\n",
    "for Nd in range(int(min_people),int(max_people)+1,1):\n",
    "    acc_table[Nd] = [accounting_penalty_actual(Nd,diff) for diff in range(0,int(max_people-min_people)+1,1)]"
   ]
  },
  {
   "cell_type": "code",
   "execution_count": 201,
   "metadata": {},
   "outputs": [
    {
     "data": {
      "text/plain": [
       "[<matplotlib.lines.Line2D at 0x7f3b4c99cad0>]"
      ]
     },
     "execution_count": 201,
     "metadata": {},
     "output_type": "execute_result"
    },
    {
     "data": {
      "image/png": "[encoded data removed]",
      "text/plain": [
       "<Figure size 432x288 with 1 Axes>"
      ]
     },
     "metadata": {
      "needs_background": "light"
     },
     "output_type": "display_data"
    }
   ],
   "source": [
    "plt.plot(np.arange(0,int(max_people-min_people+1),1),acc_table[int(min_people+10)][:int(max_people-min_people+1)])"
   ]
  },
  {
   "cell_type": "code",
   "execution_count": null,
   "metadata": {},
   "outputs": [],
   "source": []
  },
  {
   "cell_type": "markdown",
   "metadata": {},
   "source": [
    "The decision variable needs to be a boolean for each choice for each family. We will create a "
   ]
  },
  {
   "cell_type": "code",
   "execution_count": 427,
   "metadata": {},
   "outputs": [],
   "source": [
    "# set the parameters\n",
    "\n",
    "max_diff = 35 # this is the maximum difference between two days in total number of people\n",
    "w1 = 0 # this is the weight applied to the simple difference ppd(d)-ppd(d+1)\n",
    "w2 = 0 # this is the weight applied to the simple linear shopping penalty\n",
    "w3 = 10 # this is the multiplier for the day penalty for high traffic days"
   ]
  },
  {
   "cell_type": "code",
   "execution_count": 428,
   "metadata": {},
   "outputs": [],
   "source": [
    "# The prob variable is created to contain the problem data        \n",
    "m = Model()"
   ]
  },
  {
   "cell_type": "code",
   "execution_count": 429,
   "metadata": {},
   "outputs": [],
   "source": [
    "# The decision variables are actually the family and the day they are assigned\n",
    "x = [ [m.add_var(name='fam_{},day_{}'.format(f,d),var_type=BINARY) for d in day] for f in fam_id ]"
   ]
  },
  {
   "cell_type": "code",
   "execution_count": 430,
   "metadata": {},
   "outputs": [],
   "source": [
    "def ppd_fast(di):\n",
    "    if di==num_days:\n",
    "        di = num_days-1\n",
    "    return xsum(x[fi][di]*n_people[f] for fi,f in enumerate(fam_id))\n",
    "\n",
    "def ppd(d):\n",
    "    if d>num_days:\n",
    "        d=num_days\n",
    "    di = day.index(d)\n",
    "    return xsum(x[fi][di]*n_people[f] for fi,f in enumerate(fam_id))"
   ]
  },
  {
   "cell_type": "code",
   "execution_count": 431,
   "metadata": {},
   "outputs": [],
   "source": [
    "\n",
    "\n",
    "#m.objective = minimize(xsum(x[fi][di]*choice_matrix[f][d][c]*(choice_gc[c] + n_people[f]*choice_pm[c])\n",
    "#                            + ppd_fast(di)*(w1+w2) - w1*ppd_fast(di+1) - w2*125\n",
    "#         for c in choice for di,d in enumerate(day) for fi,f in enumerate(fam_id))) \n",
    "\n",
    "m.objective = minimize(xsum(x[fi][di]*choice_matrix[f][d][c]*(choice_gc[c] + n_people[f]*choice_pm[c]+w3*day_penalty[d])\n",
    "                       for c in choice for di,d in enumerate(day) for fi,f in enumerate(fam_id)))\n",
    "                       \n",
    "                      #+ xsum(ppd_fast(di)*(w1+w2) - w1*ppd_fast(di+1) - w2*125 for di,d in enumerate(day))) "
   ]
  },
  {
   "cell_type": "code",
   "execution_count": null,
   "metadata": {},
   "outputs": [],
   "source": []
  },
  {
   "cell_type": "code",
   "execution_count": 432,
   "metadata": {},
   "outputs": [],
   "source": [
    "# adding in the constraints\n",
    "\n",
    "# The first set of constraints ensures each family only has a single day selected\n",
    "for fi,f in enumerate(fam_id):\n",
    "        m += xsum(x[fi][di] for di,d in enumerate(day)) == 1"
   ]
  },
  {
   "cell_type": "code",
   "execution_count": 433,
   "metadata": {},
   "outputs": [],
   "source": [
    "# the second set of constraints guarantee that the total number of visitors is between 125 and 300 for\n",
    "# for every single day leading up to christmas\n",
    "\n",
    "for di,d in enumerate(day):\n",
    "    m += ppd(d) >= lower_limit, ''\n",
    "    m += ppd(d) <= upper_limit, ''"
   ]
  },
  {
   "cell_type": "code",
   "execution_count": 434,
   "metadata": {},
   "outputs": [],
   "source": [
    "# adding this third constraint to prevent the difference between each day from climbing too high.\n",
    "\n",
    "for di,d in enumerate(day[0:len(day)-1]):\n",
    "    m += ppd(d)-ppd(d+1) >= -max_diff, ''\n",
    "    m += ppd(d)-ppd(d+1) <= max_diff, ''\n"
   ]
  },
  {
   "cell_type": "code",
   "execution_count": 435,
   "metadata": {},
   "outputs": [
    {
     "name": "stdout",
     "output_type": "stream",
     "text": [
      "optimal solution cost 162842.75999999847 found\n"
     ]
    }
   ],
   "source": [
    "#m.max_gap = 0.05\n",
    "status = m.optimize(max_seconds=300)\n",
    "\n",
    "if status == OptimizationStatus.OPTIMAL:\n",
    "    print('optimal solution cost {} found'.format(m.objective_value))\n",
    "elif status == OptimizationStatus.FEASIBLE:\n",
    "    print('sol.cost {} found, best possible: {}'.format(m.objective_value, m.objective_bound))\n",
    "elif status == OptimizationStatus.NO_SOLUTION_FOUND:\n",
    "    print('no feasible solution found, lower bound is: {}'.format(m.objective_bound))\n"
   ]
  },
  {
   "cell_type": "code",
   "execution_count": 436,
   "metadata": {},
   "outputs": [
    {
     "data": {
      "text/plain": [
       "<OptimizationStatus.OPTIMAL: 0>"
      ]
     },
     "execution_count": 436,
     "metadata": {},
     "output_type": "execute_result"
    }
   ],
   "source": [
    "status"
   ]
  },
  {
   "cell_type": "code",
   "execution_count": 157,
   "metadata": {},
   "outputs": [],
   "source": [
    "m.write('model.lp')"
   ]
  },
  {
   "cell_type": "code",
   "execution_count": 411,
   "metadata": {},
   "outputs": [
    {
     "name": "stdout",
     "output_type": "stream",
     "text": [
      "948724.600000004\n"
     ]
    }
   ],
   "source": [
    "obj = m.objective_value\n",
    "print(obj)"
   ]
  },
  {
   "cell_type": "code",
   "execution_count": 437,
   "metadata": {},
   "outputs": [
    {
     "name": "stdout",
     "output_type": "stream",
     "text": [
      "0/500000\n",
      "10000/500000\n",
      "20000/500000\n",
      "30000/500000\n",
      "40000/500000\n",
      "50000/500000\n",
      "60000/500000\n",
      "70000/500000\n",
      "80000/500000\n",
      "90000/500000\n",
      "100000/500000\n",
      "110000/500000\n",
      "120000/500000\n",
      "130000/500000\n",
      "140000/500000\n",
      "150000/500000\n",
      "160000/500000\n",
      "170000/500000\n",
      "180000/500000\n",
      "190000/500000\n",
      "200000/500000\n",
      "210000/500000\n",
      "220000/500000\n",
      "230000/500000\n",
      "240000/500000\n",
      "250000/500000\n",
      "260000/500000\n",
      "270000/500000\n",
      "280000/500000\n",
      "290000/500000\n",
      "300000/500000\n",
      "310000/500000\n",
      "320000/500000\n",
      "330000/500000\n",
      "340000/500000\n",
      "350000/500000\n",
      "360000/500000\n",
      "370000/500000\n",
      "380000/500000\n",
      "390000/500000\n",
      "400000/500000\n",
      "410000/500000\n",
      "420000/500000\n",
      "430000/500000\n",
      "440000/500000\n",
      "450000/500000\n",
      "460000/500000\n",
      "470000/500000\n",
      "480000/500000\n",
      "490000/500000\n"
     ]
    }
   ],
   "source": [
    "fam_day_dict = {}\n",
    "\n",
    "for i,v in enumerate(m.vars):\n",
    "    \n",
    "    if i%10000==0:\n",
    "        print('{}/{}'.format(i,len(m.vars)))\n",
    "    if abs(v.x) > 1e-6: # only printing non-zeros\n",
    "        #print('{} : {}'.format(v.name, v.x))\n",
    "        s = v.name.split(',')\n",
    "        fam_day_dict[int(s[0][4:])] = int(s[1][4:])\n"
   ]
  },
  {
   "cell_type": "code",
   "execution_count": 438,
   "metadata": {},
   "outputs": [],
   "source": [
    "sel_series = pd.Series(fam_day_dict,name='assigned_day')"
   ]
  },
  {
   "cell_type": "code",
   "execution_count": 439,
   "metadata": {},
   "outputs": [
    {
     "data": {
      "text/plain": [
       "5000"
      ]
     },
     "execution_count": 439,
     "metadata": {},
     "output_type": "execute_result"
    }
   ],
   "source": [
    "len(sel_series)"
   ]
  },
  {
   "cell_type": "code",
   "execution_count": 440,
   "metadata": {},
   "outputs": [
    {
     "data": {
      "text/plain": [
       "<matplotlib.axes._subplots.AxesSubplot at 0x7f3b42e93a50>"
      ]
     },
     "execution_count": 440,
     "metadata": {},
     "output_type": "execute_result"
    },
    {
     "data": {
      "image/png": "[encoded data removed]",
      "text/plain": [
       "<Figure size 432x288 with 1 Axes>"
      ]
     },
     "metadata": {
      "needs_background": "light"
     },
     "output_type": "display_data"
    }
   ],
   "source": [
    "sel_series.hist(bins=[b for b in range(1,num_days+2,1)])"
   ]
  },
  {
   "cell_type": "code",
   "execution_count": 441,
   "metadata": {},
   "outputs": [
    {
     "data": {
      "text/html": [
       "<div>\n",
       "<style scoped>\n",
       "    .dataframe tbody tr th:only-of-type {\n",
       "        vertical-align: middle;\n",
       "    }\n",
       "\n",
       "    .dataframe tbody tr th {\n",
       "        vertical-align: top;\n",
       "    }\n",
       "\n",
       "    .dataframe thead th {\n",
       "        text-align: right;\n",
       "    }\n",
       "</style>\n",
       "<table border=\"1\" class=\"dataframe\">\n",
       "  <thead>\n",
       "    <tr style=\"text-align: right;\">\n",
       "      <th></th>\n",
       "      <th>choice_0</th>\n",
       "      <th>choice_1</th>\n",
       "      <th>choice_2</th>\n",
       "      <th>choice_3</th>\n",
       "      <th>choice_4</th>\n",
       "      <th>choice_5</th>\n",
       "      <th>choice_6</th>\n",
       "      <th>choice_7</th>\n",
       "      <th>choice_8</th>\n",
       "      <th>choice_9</th>\n",
       "      <th>n_people</th>\n",
       "      <th>assigned_day</th>\n",
       "      <th>assigned_choice</th>\n",
       "    </tr>\n",
       "    <tr>\n",
       "      <th>family_id</th>\n",
       "      <th></th>\n",
       "      <th></th>\n",
       "      <th></th>\n",
       "      <th></th>\n",
       "      <th></th>\n",
       "      <th></th>\n",
       "      <th></th>\n",
       "      <th></th>\n",
       "      <th></th>\n",
       "      <th></th>\n",
       "      <th></th>\n",
       "      <th></th>\n",
       "      <th></th>\n",
       "    </tr>\n",
       "  </thead>\n",
       "  <tbody>\n",
       "    <tr>\n",
       "      <th>0</th>\n",
       "      <td>52</td>\n",
       "      <td>38</td>\n",
       "      <td>12</td>\n",
       "      <td>82</td>\n",
       "      <td>33</td>\n",
       "      <td>75</td>\n",
       "      <td>64</td>\n",
       "      <td>76</td>\n",
       "      <td>10</td>\n",
       "      <td>28</td>\n",
       "      <td>4</td>\n",
       "      <td>52</td>\n",
       "      <td>choice_0</td>\n",
       "    </tr>\n",
       "    <tr>\n",
       "      <th>1</th>\n",
       "      <td>26</td>\n",
       "      <td>4</td>\n",
       "      <td>82</td>\n",
       "      <td>5</td>\n",
       "      <td>11</td>\n",
       "      <td>47</td>\n",
       "      <td>38</td>\n",
       "      <td>6</td>\n",
       "      <td>66</td>\n",
       "      <td>61</td>\n",
       "      <td>4</td>\n",
       "      <td>26</td>\n",
       "      <td>choice_0</td>\n",
       "    </tr>\n",
       "    <tr>\n",
       "      <th>2</th>\n",
       "      <td>100</td>\n",
       "      <td>54</td>\n",
       "      <td>25</td>\n",
       "      <td>12</td>\n",
       "      <td>27</td>\n",
       "      <td>82</td>\n",
       "      <td>10</td>\n",
       "      <td>89</td>\n",
       "      <td>80</td>\n",
       "      <td>33</td>\n",
       "      <td>3</td>\n",
       "      <td>100</td>\n",
       "      <td>choice_0</td>\n",
       "    </tr>\n",
       "    <tr>\n",
       "      <th>3</th>\n",
       "      <td>2</td>\n",
       "      <td>95</td>\n",
       "      <td>1</td>\n",
       "      <td>96</td>\n",
       "      <td>32</td>\n",
       "      <td>6</td>\n",
       "      <td>40</td>\n",
       "      <td>31</td>\n",
       "      <td>9</td>\n",
       "      <td>59</td>\n",
       "      <td>2</td>\n",
       "      <td>2</td>\n",
       "      <td>choice_0</td>\n",
       "    </tr>\n",
       "    <tr>\n",
       "      <th>4</th>\n",
       "      <td>53</td>\n",
       "      <td>1</td>\n",
       "      <td>47</td>\n",
       "      <td>93</td>\n",
       "      <td>26</td>\n",
       "      <td>3</td>\n",
       "      <td>46</td>\n",
       "      <td>16</td>\n",
       "      <td>42</td>\n",
       "      <td>39</td>\n",
       "      <td>4</td>\n",
       "      <td>53</td>\n",
       "      <td>choice_0</td>\n",
       "    </tr>\n",
       "  </tbody>\n",
       "</table>\n",
       "</div>"
      ],
      "text/plain": [
       "           choice_0  choice_1  choice_2  choice_3  choice_4  choice_5  \\\n",
       "family_id                                                               \n",
       "0                52        38        12        82        33        75   \n",
       "1                26         4        82         5        11        47   \n",
       "2               100        54        25        12        27        82   \n",
       "3                 2        95         1        96        32         6   \n",
       "4                53         1        47        93        26         3   \n",
       "\n",
       "           choice_6  choice_7  choice_8  choice_9  n_people  assigned_day  \\\n",
       "family_id                                                                   \n",
       "0                64        76        10        28         4            52   \n",
       "1                38         6        66        61         4            26   \n",
       "2                10        89        80        33         3           100   \n",
       "3                40        31         9        59         2             2   \n",
       "4                46        16        42        39         4            53   \n",
       "\n",
       "          assigned_choice  \n",
       "family_id                  \n",
       "0                choice_0  \n",
       "1                choice_0  \n",
       "2                choice_0  \n",
       "3                choice_0  \n",
       "4                choice_0  "
      ]
     },
     "execution_count": 441,
     "metadata": {},
     "output_type": "execute_result"
    }
   ],
   "source": [
    "#df2 = df2.join(sel_series)\n",
    "df2['assigned_day'] = sel_series.astype(int)\n",
    "#df2['assigned_day'] = df2.assigned_day.astype(int)\n",
    "df2.head()"
   ]
  },
  {
   "cell_type": "code",
   "execution_count": 442,
   "metadata": {},
   "outputs": [
    {
     "data": {
      "text/html": [
       "<div>\n",
       "<style scoped>\n",
       "    .dataframe tbody tr th:only-of-type {\n",
       "        vertical-align: middle;\n",
       "    }\n",
       "\n",
       "    .dataframe tbody tr th {\n",
       "        vertical-align: top;\n",
       "    }\n",
       "\n",
       "    .dataframe thead th {\n",
       "        text-align: right;\n",
       "    }\n",
       "</style>\n",
       "<table border=\"1\" class=\"dataframe\">\n",
       "  <thead>\n",
       "    <tr style=\"text-align: right;\">\n",
       "      <th></th>\n",
       "      <th>choice_0</th>\n",
       "      <th>choice_1</th>\n",
       "      <th>choice_2</th>\n",
       "      <th>choice_3</th>\n",
       "      <th>choice_4</th>\n",
       "      <th>choice_5</th>\n",
       "      <th>choice_6</th>\n",
       "      <th>choice_7</th>\n",
       "      <th>choice_8</th>\n",
       "      <th>choice_9</th>\n",
       "      <th>n_people</th>\n",
       "      <th>assigned_day</th>\n",
       "      <th>assigned_choice</th>\n",
       "    </tr>\n",
       "    <tr>\n",
       "      <th>family_id</th>\n",
       "      <th></th>\n",
       "      <th></th>\n",
       "      <th></th>\n",
       "      <th></th>\n",
       "      <th></th>\n",
       "      <th></th>\n",
       "      <th></th>\n",
       "      <th></th>\n",
       "      <th></th>\n",
       "      <th></th>\n",
       "      <th></th>\n",
       "      <th></th>\n",
       "      <th></th>\n",
       "    </tr>\n",
       "  </thead>\n",
       "  <tbody>\n",
       "  </tbody>\n",
       "</table>\n",
       "</div>"
      ],
      "text/plain": [
       "Empty DataFrame\n",
       "Columns: [choice_0, choice_1, choice_2, choice_3, choice_4, choice_5, choice_6, choice_7, choice_8, choice_9, n_people, assigned_day, assigned_choice]\n",
       "Index: []"
      ]
     },
     "execution_count": 442,
     "metadata": {},
     "output_type": "execute_result"
    }
   ],
   "source": [
    "df2[df2.assigned_day.isnull()]"
   ]
  },
  {
   "cell_type": "code",
   "execution_count": 443,
   "metadata": {},
   "outputs": [
    {
     "name": "stdout",
     "output_type": "stream",
     "text": [
      "299\n",
      "265\n",
      "299\n",
      "296\n",
      "282\n",
      "247\n",
      "216\n",
      "232\n",
      "267\n",
      "293\n",
      "296\n",
      "291\n",
      "261\n",
      "236\n",
      "234\n",
      "267\n",
      "298\n",
      "296\n",
      "267\n",
      "235\n",
      "200\n",
      "229\n",
      "263\n",
      "296\n",
      "299\n",
      "300\n",
      "271\n",
      "237\n",
      "242\n",
      "249\n",
      "283\n",
      "291\n",
      "260\n",
      "230\n",
      "196\n",
      "166\n",
      "198\n",
      "233\n",
      "268\n",
      "251\n",
      "216\n",
      "184\n",
      "195\n",
      "230\n",
      "265\n",
      "290\n",
      "262\n",
      "229\n",
      "210\n",
      "217\n",
      "231\n",
      "258\n",
      "271\n",
      "237\n",
      "202\n",
      "170\n",
      "171\n",
      "206\n",
      "239\n",
      "219\n",
      "200\n",
      "168\n",
      "133\n",
      "125\n",
      "149\n",
      "182\n",
      "203\n",
      "173\n",
      "138\n",
      "127\n",
      "127\n",
      "132\n",
      "163\n",
      "194\n",
      "162\n",
      "127\n",
      "125\n",
      "125\n",
      "138\n",
      "173\n",
      "206\n",
      "172\n",
      "138\n",
      "126\n",
      "132\n",
      "159\n",
      "193\n",
      "223\n",
      "188\n",
      "155\n",
      "130\n",
      "127\n",
      "126\n",
      "161\n",
      "194\n",
      "162\n",
      "127\n",
      "127\n",
      "126\n",
      "126\n"
     ]
    }
   ],
   "source": [
    "total_people = {}\n",
    "for d in day:\n",
    "    mask = df2['assigned_day']==d\n",
    "    total_people[d] = df2[mask].n_people.sum()\n",
    "    print(total_people[d])"
   ]
  },
  {
   "cell_type": "markdown",
   "metadata": {},
   "source": [
    "Calculating the actual objective for the problem"
   ]
  },
  {
   "cell_type": "code",
   "execution_count": 444,
   "metadata": {},
   "outputs": [],
   "source": [
    "def accounting_penalty_actual(Nd,diff):\n",
    "    return 300/max_people*(Nd-min_people)/400 * Nd**(0.5+np.fabs(diff)/50)"
   ]
  },
  {
   "cell_type": "code",
   "execution_count": 445,
   "metadata": {},
   "outputs": [
    {
     "name": "stdout",
     "output_type": "stream",
     "text": [
      "8055.210847719486\n"
     ]
    }
   ],
   "source": [
    "total_accounting_penalty = sum([accounting_penalty_actual(total_people[d],total_people[d]-total_people[d+1])\n",
    "                                if d<100 \n",
    "                                else accounting_penalty_actual(total_people[d],0)\n",
    "                                for d in day])\n",
    "print(total_accounting_penalty)"
   ]
  },
  {
   "cell_type": "code",
   "execution_count": 446,
   "metadata": {},
   "outputs": [],
   "source": [
    "# Adding a column to the dataframe for the choice made...\n",
    "\n",
    "def choice_func(r):\n",
    "    if r['assigned_day'] in r.values[:10]:\n",
    "        return choice[list(r.values[:10]).index(r.assigned_day)]\n",
    "    else:\n",
    "        return 'choice_10'"
   ]
  },
  {
   "cell_type": "code",
   "execution_count": 447,
   "metadata": {},
   "outputs": [
    {
     "data": {
      "text/html": [
       "<div>\n",
       "<style scoped>\n",
       "    .dataframe tbody tr th:only-of-type {\n",
       "        vertical-align: middle;\n",
       "    }\n",
       "\n",
       "    .dataframe tbody tr th {\n",
       "        vertical-align: top;\n",
       "    }\n",
       "\n",
       "    .dataframe thead th {\n",
       "        text-align: right;\n",
       "    }\n",
       "</style>\n",
       "<table border=\"1\" class=\"dataframe\">\n",
       "  <thead>\n",
       "    <tr style=\"text-align: right;\">\n",
       "      <th></th>\n",
       "      <th>choice_0</th>\n",
       "      <th>choice_1</th>\n",
       "      <th>choice_2</th>\n",
       "      <th>choice_3</th>\n",
       "      <th>choice_4</th>\n",
       "      <th>choice_5</th>\n",
       "      <th>choice_6</th>\n",
       "      <th>choice_7</th>\n",
       "      <th>choice_8</th>\n",
       "      <th>choice_9</th>\n",
       "      <th>n_people</th>\n",
       "      <th>assigned_day</th>\n",
       "      <th>assigned_choice</th>\n",
       "    </tr>\n",
       "    <tr>\n",
       "      <th>family_id</th>\n",
       "      <th></th>\n",
       "      <th></th>\n",
       "      <th></th>\n",
       "      <th></th>\n",
       "      <th></th>\n",
       "      <th></th>\n",
       "      <th></th>\n",
       "      <th></th>\n",
       "      <th></th>\n",
       "      <th></th>\n",
       "      <th></th>\n",
       "      <th></th>\n",
       "      <th></th>\n",
       "    </tr>\n",
       "  </thead>\n",
       "  <tbody>\n",
       "    <tr>\n",
       "      <th>3458</th>\n",
       "      <td>52</td>\n",
       "      <td>25</td>\n",
       "      <td>80</td>\n",
       "      <td>53</td>\n",
       "      <td>63</td>\n",
       "      <td>59</td>\n",
       "      <td>31</td>\n",
       "      <td>26</td>\n",
       "      <td>75</td>\n",
       "      <td>38</td>\n",
       "      <td>6</td>\n",
       "      <td>63</td>\n",
       "      <td>choice_4</td>\n",
       "    </tr>\n",
       "    <tr>\n",
       "      <th>3676</th>\n",
       "      <td>1</td>\n",
       "      <td>87</td>\n",
       "      <td>80</td>\n",
       "      <td>3</td>\n",
       "      <td>93</td>\n",
       "      <td>21</td>\n",
       "      <td>12</td>\n",
       "      <td>53</td>\n",
       "      <td>45</td>\n",
       "      <td>82</td>\n",
       "      <td>6</td>\n",
       "      <td>93</td>\n",
       "      <td>choice_4</td>\n",
       "    </tr>\n",
       "    <tr>\n",
       "      <th>3778</th>\n",
       "      <td>32</td>\n",
       "      <td>12</td>\n",
       "      <td>5</td>\n",
       "      <td>31</td>\n",
       "      <td>50</td>\n",
       "      <td>19</td>\n",
       "      <td>26</td>\n",
       "      <td>38</td>\n",
       "      <td>47</td>\n",
       "      <td>17</td>\n",
       "      <td>8</td>\n",
       "      <td>50</td>\n",
       "      <td>choice_4</td>\n",
       "    </tr>\n",
       "    <tr>\n",
       "      <th>4849</th>\n",
       "      <td>33</td>\n",
       "      <td>32</td>\n",
       "      <td>88</td>\n",
       "      <td>57</td>\n",
       "      <td>55</td>\n",
       "      <td>54</td>\n",
       "      <td>26</td>\n",
       "      <td>81</td>\n",
       "      <td>59</td>\n",
       "      <td>1</td>\n",
       "      <td>6</td>\n",
       "      <td>55</td>\n",
       "      <td>choice_4</td>\n",
       "    </tr>\n",
       "    <tr>\n",
       "      <th>4870</th>\n",
       "      <td>4</td>\n",
       "      <td>11</td>\n",
       "      <td>40</td>\n",
       "      <td>34</td>\n",
       "      <td>70</td>\n",
       "      <td>42</td>\n",
       "      <td>17</td>\n",
       "      <td>88</td>\n",
       "      <td>33</td>\n",
       "      <td>27</td>\n",
       "      <td>7</td>\n",
       "      <td>70</td>\n",
       "      <td>choice_4</td>\n",
       "    </tr>\n",
       "  </tbody>\n",
       "</table>\n",
       "</div>"
      ],
      "text/plain": [
       "           choice_0  choice_1  choice_2  choice_3  choice_4  choice_5  \\\n",
       "family_id                                                               \n",
       "3458             52        25        80        53        63        59   \n",
       "3676              1        87        80         3        93        21   \n",
       "3778             32        12         5        31        50        19   \n",
       "4849             33        32        88        57        55        54   \n",
       "4870              4        11        40        34        70        42   \n",
       "\n",
       "           choice_6  choice_7  choice_8  choice_9  n_people  assigned_day  \\\n",
       "family_id                                                                   \n",
       "3458             31        26        75        38         6            63   \n",
       "3676             12        53        45        82         6            93   \n",
       "3778             26        38        47        17         8            50   \n",
       "4849             26        81        59         1         6            55   \n",
       "4870             17        88        33        27         7            70   \n",
       "\n",
       "          assigned_choice  \n",
       "family_id                  \n",
       "3458             choice_4  \n",
       "3676             choice_4  \n",
       "3778             choice_4  \n",
       "4849             choice_4  \n",
       "4870             choice_4  "
      ]
     },
     "execution_count": 447,
     "metadata": {},
     "output_type": "execute_result"
    }
   ],
   "source": [
    "df2['assigned_choice'] = df2.apply(choice_func,axis=1)\n",
    "df2[df2.assigned_choice=='choice_4'].head()"
   ]
  },
  {
   "cell_type": "code",
   "execution_count": 448,
   "metadata": {},
   "outputs": [],
   "source": [
    "def simple_cost(r):\n",
    "    return choice_gc[r['assigned_choice']] + r['n_people']*choice_pm[r['assigned_choice']]"
   ]
  },
  {
   "cell_type": "code",
   "execution_count": 449,
   "metadata": {},
   "outputs": [
    {
     "data": {
      "text/plain": [
       "72125"
      ]
     },
     "execution_count": 449,
     "metadata": {},
     "output_type": "execute_result"
    }
   ],
   "source": [
    "total_simple_cost = df2.apply(simple_cost,axis=1).sum()\n",
    "total_simple_cost"
   ]
  },
  {
   "cell_type": "code",
   "execution_count": 450,
   "metadata": {},
   "outputs": [
    {
     "name": "stdout",
     "output_type": "stream",
     "text": [
      "Final Score: 80180.21084771949\n"
     ]
    }
   ],
   "source": [
    "final_score = total_simple_cost + total_accounting_penalty\n",
    "print('Final Score: {}'.format(final_score))"
   ]
  },
  {
   "cell_type": "code",
   "execution_count": 451,
   "metadata": {},
   "outputs": [],
   "source": [
    "df2['assigned_day'].to_csv('submission_80180.csv',header=True)"
   ]
  },
  {
   "cell_type": "code",
   "execution_count": null,
   "metadata": {},
   "outputs": [],
   "source": []
  },
  {
   "cell_type": "markdown",
   "metadata": {},
   "source": [
    "with a limit on the diff of 30 and solving for 500 seconds, the final score was 83115.97"
   ]
  },
  {
   "cell_type": "code",
   "execution_count": 426,
   "metadata": {},
   "outputs": [
    {
     "data": {
      "text/plain": [
       "[<matplotlib.lines.Line2D at 0x7f3b42050a90>]"
      ]
     },
     "execution_count": 426,
     "metadata": {},
     "output_type": "execute_result"
    },
    {
     "data": {
      "image/png": "[encoded data removed]",
      "text/plain": [
       "<Figure size 432x288 with 1 Axes>"
      ]
     },
     "metadata": {
      "needs_background": "light"
     },
     "output_type": "display_data"
    }
   ],
   "source": [
    "plt.plot(list(total_people.keys()),list(total_people.values()))"
   ]
  },
  {
   "cell_type": "code",
   "execution_count": 397,
   "metadata": {},
   "outputs": [
    {
     "data": {
      "text/plain": [
       "[<matplotlib.lines.Line2D at 0x7f3b4290b1d0>]"
      ]
     },
     "execution_count": 397,
     "metadata": {},
     "output_type": "execute_result"
    },
    {
     "data": {
      "image/png": "[encoded data removed]",
      "text/plain": [
       "<Figure size 432x288 with 1 Axes>"
      ]
     },
     "metadata": {
      "needs_background": "light"
     },
     "output_type": "display_data"
    }
   ],
   "source": [
    "# Creating penalties related to the days that have the highest consumption with no accounting\n",
    "\n",
    "# sort the days by the number of visitors\n",
    "sorted_days = {k: v for k, v in sorted(total_people.items(), key=lambda item: item[1],reverse=True)}\n",
    "\n",
    "plt.plot([i for i in range(100)],list(sorted_days.values()))"
   ]
  },
  {
   "cell_type": "code",
   "execution_count": 399,
   "metadata": {},
   "outputs": [
    {
     "name": "stdout",
     "output_type": "stream",
     "text": [
      "1\t2.4\n",
      "5\t2.4\n",
      "17\t2.4\n",
      "18\t2.4\n",
      "46\t2.4\n",
      "59\t2.4\n",
      "75\t2.4\n",
      "81\t2.4\n",
      "88\t2.4\n",
      "3\t2.392\n",
      "11\t2.392\n",
      "19\t2.392\n",
      "4\t2.384\n",
      "33\t2.384\n",
      "39\t2.384\n",
      "40\t2.384\n",
      "47\t2.384\n",
      "12\t2.376\n",
      "31\t2.376\n",
      "32\t2.376\n",
      "60\t2.376\n",
      "96\t2.376\n",
      "24\t2.368\n",
      "25\t2.368\n",
      "45\t2.368\n",
      "53\t2.368\n",
      "66\t2.368\n",
      "54\t2.36\n",
      "67\t2.36\n",
      "73\t2.36\n",
      "87\t2.36\n",
      "26\t2.352\n",
      "52\t2.352\n",
      "10\t2.344\n",
      "38\t2.344\n",
      "89\t2.344\n",
      "68\t2.328\n",
      "94\t2.272\n",
      "95\t2.264\n",
      "61\t2.248\n",
      "82\t2.12\n",
      "80\t2.04\n",
      "27\t1.896\n",
      "74\t1.88\n",
      "29\t1.776\n",
      "14\t1.752\n",
      "16\t1.744\n",
      "2\t1.608\n",
      "15\t1.52\n",
      "23\t1.472\n",
      "7\t1.456\n",
      "9\t1.392\n",
      "8\t1.384\n",
      "58\t1.384\n",
      "13\t1.352\n",
      "28\t1.32\n",
      "22\t1.312\n",
      "48\t1.296\n",
      "49\t1.288\n",
      "20\t1.264\n",
      "51\t1.24\n",
      "21\t1.232\n",
      "43\t1.184\n",
      "41\t1.152\n",
      "44\t1.128\n",
      "35\t1.12\n",
      "36\t1.12\n",
      "6\t1.104\n",
      "30\t1.104\n",
      "37\t1.08\n",
      "42\t1.08\n",
      "84\t1.056\n",
      "34\t1.04\n",
      "83\t1.04\n",
      "56\t1.032\n",
      "57\t1.032\n",
      "76\t1.032\n",
      "64\t1.024\n",
      "85\t1.024\n",
      "86\t1.024\n",
      "91\t1.024\n",
      "62\t1.016\n",
      "65\t1.016\n",
      "70\t1.016\n",
      "72\t1.016\n",
      "78\t1.016\n",
      "93\t1.016\n",
      "97\t1.016\n",
      "50\t1.008\n",
      "63\t1.008\n",
      "69\t1.008\n",
      "71\t1.008\n",
      "77\t1.008\n",
      "79\t1.008\n",
      "90\t1.008\n",
      "92\t1.008\n",
      "99\t1.008\n",
      "100\t1.008\n",
      "55\t1.0\n",
      "98\t1.0\n"
     ]
    }
   ],
   "source": [
    "# Write the penalties to file\n",
    "with open('day_penalty.txt','w') as fout:\n",
    "    fout.write('day\\tpenalty\\n')\n",
    "    for k,v in sorted_days.items():\n",
    "        fout.write('{}\\t{}\\n'.format(k,v/125))\n",
    "        print('{}\\t{}'.format(k,v/125))\n",
    "        \n",
    "        \n",
    "    "
   ]
  },
  {
   "cell_type": "code",
   "execution_count": null,
   "metadata": {},
   "outputs": [],
   "source": []
  }
 ],
 "metadata": {
  "kernelspec": {
   "display_name": "MIP-env",
   "language": "python",
   "name": "mip-env"
  },
  "language_info": {
   "codemirror_mode": {
    "name": "ipython",
    "version": 3
   },
   "file_extension": ".py",
   "mimetype": "text/x-python",
   "name": "python",
   "nbconvert_exporter": "python",
   "pygments_lexer": "ipython3",
   "version": "3.7.5"
  }
 },
 "nbformat": 4,
 "nbformat_minor": 2
}
