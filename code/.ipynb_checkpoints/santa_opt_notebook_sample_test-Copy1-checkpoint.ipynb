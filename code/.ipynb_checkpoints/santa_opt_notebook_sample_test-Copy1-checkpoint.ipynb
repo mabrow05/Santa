{
 "cells": [
  {
   "cell_type": "code",
   "execution_count": 1,
   "metadata": {},
   "outputs": [],
   "source": [
    "import pandas as pd\n",
    "import numpy as np\n",
    "\n",
    "import matplotlib.pyplot as plt\n",
    "\n",
    "from pulp import *"
   ]
  },
  {
   "cell_type": "code",
   "execution_count": 2,
   "metadata": {},
   "outputs": [
    {
     "data": {
      "text/html": [
       "<div>\n",
       "<style scoped>\n",
       "    .dataframe tbody tr th:only-of-type {\n",
       "        vertical-align: middle;\n",
       "    }\n",
       "\n",
       "    .dataframe tbody tr th {\n",
       "        vertical-align: top;\n",
       "    }\n",
       "\n",
       "    .dataframe thead th {\n",
       "        text-align: right;\n",
       "    }\n",
       "</style>\n",
       "<table border=\"1\" class=\"dataframe\">\n",
       "  <thead>\n",
       "    <tr style=\"text-align: right;\">\n",
       "      <th></th>\n",
       "      <th>choice_0</th>\n",
       "      <th>choice_1</th>\n",
       "      <th>choice_2</th>\n",
       "      <th>choice_3</th>\n",
       "      <th>choice_4</th>\n",
       "      <th>choice_5</th>\n",
       "      <th>choice_6</th>\n",
       "      <th>choice_7</th>\n",
       "      <th>choice_8</th>\n",
       "      <th>choice_9</th>\n",
       "      <th>n_people</th>\n",
       "    </tr>\n",
       "    <tr>\n",
       "      <th>family_id</th>\n",
       "      <th></th>\n",
       "      <th></th>\n",
       "      <th></th>\n",
       "      <th></th>\n",
       "      <th></th>\n",
       "      <th></th>\n",
       "      <th></th>\n",
       "      <th></th>\n",
       "      <th></th>\n",
       "      <th></th>\n",
       "      <th></th>\n",
       "    </tr>\n",
       "  </thead>\n",
       "  <tbody>\n",
       "    <tr>\n",
       "      <th>0</th>\n",
       "      <td>52</td>\n",
       "      <td>38</td>\n",
       "      <td>12</td>\n",
       "      <td>82</td>\n",
       "      <td>33</td>\n",
       "      <td>75</td>\n",
       "      <td>64</td>\n",
       "      <td>76</td>\n",
       "      <td>10</td>\n",
       "      <td>28</td>\n",
       "      <td>4</td>\n",
       "    </tr>\n",
       "    <tr>\n",
       "      <th>1</th>\n",
       "      <td>26</td>\n",
       "      <td>4</td>\n",
       "      <td>82</td>\n",
       "      <td>5</td>\n",
       "      <td>11</td>\n",
       "      <td>47</td>\n",
       "      <td>38</td>\n",
       "      <td>6</td>\n",
       "      <td>66</td>\n",
       "      <td>61</td>\n",
       "      <td>4</td>\n",
       "    </tr>\n",
       "    <tr>\n",
       "      <th>2</th>\n",
       "      <td>100</td>\n",
       "      <td>54</td>\n",
       "      <td>25</td>\n",
       "      <td>12</td>\n",
       "      <td>27</td>\n",
       "      <td>82</td>\n",
       "      <td>10</td>\n",
       "      <td>89</td>\n",
       "      <td>80</td>\n",
       "      <td>33</td>\n",
       "      <td>3</td>\n",
       "    </tr>\n",
       "    <tr>\n",
       "      <th>3</th>\n",
       "      <td>2</td>\n",
       "      <td>95</td>\n",
       "      <td>1</td>\n",
       "      <td>96</td>\n",
       "      <td>32</td>\n",
       "      <td>6</td>\n",
       "      <td>40</td>\n",
       "      <td>31</td>\n",
       "      <td>9</td>\n",
       "      <td>59</td>\n",
       "      <td>2</td>\n",
       "    </tr>\n",
       "    <tr>\n",
       "      <th>4</th>\n",
       "      <td>53</td>\n",
       "      <td>1</td>\n",
       "      <td>47</td>\n",
       "      <td>93</td>\n",
       "      <td>26</td>\n",
       "      <td>3</td>\n",
       "      <td>46</td>\n",
       "      <td>16</td>\n",
       "      <td>42</td>\n",
       "      <td>39</td>\n",
       "      <td>4</td>\n",
       "    </tr>\n",
       "  </tbody>\n",
       "</table>\n",
       "</div>"
      ],
      "text/plain": [
       "           choice_0  choice_1  choice_2  choice_3  choice_4  choice_5  \\\n",
       "family_id                                                               \n",
       "0                52        38        12        82        33        75   \n",
       "1                26         4        82         5        11        47   \n",
       "2               100        54        25        12        27        82   \n",
       "3                 2        95         1        96        32         6   \n",
       "4                53         1        47        93        26         3   \n",
       "\n",
       "           choice_6  choice_7  choice_8  choice_9  n_people  \n",
       "family_id                                                    \n",
       "0                64        76        10        28         4  \n",
       "1                38         6        66        61         4  \n",
       "2                10        89        80        33         3  \n",
       "3                40        31         9        59         2  \n",
       "4                46        16        42        39         4  "
      ]
     },
     "execution_count": 2,
     "metadata": {},
     "output_type": "execute_result"
    }
   ],
   "source": [
    "# importing the data to take a look at what we have\n",
    "\n",
    "df = pd.read_csv('../data/family_data.csv',index_col=0)\n",
    "\n",
    "df.head()"
   ]
  },
  {
   "cell_type": "code",
   "execution_count": 3,
   "metadata": {},
   "outputs": [],
   "source": [
    "# for testing\n",
    "num_days=20\n",
    "num_families = 100"
   ]
  },
  {
   "cell_type": "code",
   "execution_count": 4,
   "metadata": {},
   "outputs": [],
   "source": [
    "df2 = df[:num_families].copy()"
   ]
  },
  {
   "cell_type": "code",
   "execution_count": 8,
   "metadata": {},
   "outputs": [],
   "source": [
    "#people scaling \n",
    "people_scale = df2.n_people.sum()/df.n_people.sum()\n",
    "\n",
    "max_people = 1.7*df2.n_people.sum()/num_days\n",
    "min_people = df2.n_people.sum()/2/num_days\n",
    "\n",
    "# day scaling\n",
    "day_scale = num_days/100"
   ]
  },
  {
   "cell_type": "code",
   "execution_count": 9,
   "metadata": {},
   "outputs": [
    {
     "name": "stdout",
     "output_type": "stream",
     "text": [
      "33.745\n",
      "9.925\n",
      "0.2\n",
      "0.018902061610246157\n"
     ]
    }
   ],
   "source": [
    "print(max_people)\n",
    "print(min_people)\n",
    "print(day_scale)\n",
    "print(people_scale)"
   ]
  },
  {
   "cell_type": "code",
   "execution_count": 10,
   "metadata": {},
   "outputs": [],
   "source": [
    "if num_days!=100:\n",
    "    for c in df2.columns.tolist()[:10]:\n",
    "        df2[c] = np.random.randint(1,num_days+1,num_families)"
   ]
  },
  {
   "cell_type": "code",
   "execution_count": 11,
   "metadata": {},
   "outputs": [
    {
     "data": {
      "text/html": [
       "<div>\n",
       "<style scoped>\n",
       "    .dataframe tbody tr th:only-of-type {\n",
       "        vertical-align: middle;\n",
       "    }\n",
       "\n",
       "    .dataframe tbody tr th {\n",
       "        vertical-align: top;\n",
       "    }\n",
       "\n",
       "    .dataframe thead th {\n",
       "        text-align: right;\n",
       "    }\n",
       "</style>\n",
       "<table border=\"1\" class=\"dataframe\">\n",
       "  <thead>\n",
       "    <tr style=\"text-align: right;\">\n",
       "      <th></th>\n",
       "      <th>choice_0</th>\n",
       "      <th>choice_1</th>\n",
       "      <th>choice_2</th>\n",
       "      <th>choice_3</th>\n",
       "      <th>choice_4</th>\n",
       "      <th>choice_5</th>\n",
       "      <th>choice_6</th>\n",
       "      <th>choice_7</th>\n",
       "      <th>choice_8</th>\n",
       "      <th>choice_9</th>\n",
       "      <th>n_people</th>\n",
       "    </tr>\n",
       "    <tr>\n",
       "      <th>family_id</th>\n",
       "      <th></th>\n",
       "      <th></th>\n",
       "      <th></th>\n",
       "      <th></th>\n",
       "      <th></th>\n",
       "      <th></th>\n",
       "      <th></th>\n",
       "      <th></th>\n",
       "      <th></th>\n",
       "      <th></th>\n",
       "      <th></th>\n",
       "    </tr>\n",
       "  </thead>\n",
       "  <tbody>\n",
       "    <tr>\n",
       "      <th>0</th>\n",
       "      <td>1</td>\n",
       "      <td>17</td>\n",
       "      <td>15</td>\n",
       "      <td>10</td>\n",
       "      <td>19</td>\n",
       "      <td>18</td>\n",
       "      <td>19</td>\n",
       "      <td>11</td>\n",
       "      <td>13</td>\n",
       "      <td>9</td>\n",
       "      <td>4</td>\n",
       "    </tr>\n",
       "    <tr>\n",
       "      <th>1</th>\n",
       "      <td>18</td>\n",
       "      <td>7</td>\n",
       "      <td>14</td>\n",
       "      <td>7</td>\n",
       "      <td>9</td>\n",
       "      <td>9</td>\n",
       "      <td>11</td>\n",
       "      <td>15</td>\n",
       "      <td>2</td>\n",
       "      <td>18</td>\n",
       "      <td>4</td>\n",
       "    </tr>\n",
       "    <tr>\n",
       "      <th>2</th>\n",
       "      <td>1</td>\n",
       "      <td>12</td>\n",
       "      <td>6</td>\n",
       "      <td>1</td>\n",
       "      <td>14</td>\n",
       "      <td>14</td>\n",
       "      <td>17</td>\n",
       "      <td>17</td>\n",
       "      <td>18</td>\n",
       "      <td>16</td>\n",
       "      <td>3</td>\n",
       "    </tr>\n",
       "    <tr>\n",
       "      <th>3</th>\n",
       "      <td>8</td>\n",
       "      <td>18</td>\n",
       "      <td>14</td>\n",
       "      <td>18</td>\n",
       "      <td>2</td>\n",
       "      <td>14</td>\n",
       "      <td>8</td>\n",
       "      <td>18</td>\n",
       "      <td>3</td>\n",
       "      <td>15</td>\n",
       "      <td>2</td>\n",
       "    </tr>\n",
       "    <tr>\n",
       "      <th>4</th>\n",
       "      <td>19</td>\n",
       "      <td>1</td>\n",
       "      <td>7</td>\n",
       "      <td>12</td>\n",
       "      <td>15</td>\n",
       "      <td>18</td>\n",
       "      <td>19</td>\n",
       "      <td>10</td>\n",
       "      <td>7</td>\n",
       "      <td>20</td>\n",
       "      <td>4</td>\n",
       "    </tr>\n",
       "  </tbody>\n",
       "</table>\n",
       "</div>"
      ],
      "text/plain": [
       "           choice_0  choice_1  choice_2  choice_3  choice_4  choice_5  \\\n",
       "family_id                                                               \n",
       "0                 1        17        15        10        19        18   \n",
       "1                18         7        14         7         9         9   \n",
       "2                 1        12         6         1        14        14   \n",
       "3                 8        18        14        18         2        14   \n",
       "4                19         1         7        12        15        18   \n",
       "\n",
       "           choice_6  choice_7  choice_8  choice_9  n_people  \n",
       "family_id                                                    \n",
       "0                19        11        13         9         4  \n",
       "1                11        15         2        18         4  \n",
       "2                17        17        18        16         3  \n",
       "3                 8        18         3        15         2  \n",
       "4                19        10         7        20         4  "
      ]
     },
     "execution_count": 11,
     "metadata": {},
     "output_type": "execute_result"
    }
   ],
   "source": [
    "df2.head()"
   ]
  },
  {
   "cell_type": "code",
   "execution_count": 12,
   "metadata": {},
   "outputs": [],
   "source": [
    "# I'm going to add a column which will represent the choice falling outside of any of the given choices. \n",
    "# This will be choice_10, and it will be 101,,,"
   ]
  },
  {
   "cell_type": "code",
   "execution_count": 13,
   "metadata": {},
   "outputs": [
    {
     "data": {
      "text/html": [
       "<div>\n",
       "<style scoped>\n",
       "    .dataframe tbody tr th:only-of-type {\n",
       "        vertical-align: middle;\n",
       "    }\n",
       "\n",
       "    .dataframe tbody tr th {\n",
       "        vertical-align: top;\n",
       "    }\n",
       "\n",
       "    .dataframe thead th {\n",
       "        text-align: right;\n",
       "    }\n",
       "</style>\n",
       "<table border=\"1\" class=\"dataframe\">\n",
       "  <thead>\n",
       "    <tr style=\"text-align: right;\">\n",
       "      <th></th>\n",
       "      <th>choice_0</th>\n",
       "      <th>choice_1</th>\n",
       "      <th>choice_2</th>\n",
       "      <th>choice_3</th>\n",
       "      <th>choice_4</th>\n",
       "      <th>choice_5</th>\n",
       "      <th>choice_6</th>\n",
       "      <th>choice_7</th>\n",
       "      <th>choice_8</th>\n",
       "      <th>choice_9</th>\n",
       "      <th>n_people</th>\n",
       "    </tr>\n",
       "  </thead>\n",
       "  <tbody>\n",
       "    <tr>\n",
       "      <th>count</th>\n",
       "      <td>100.000000</td>\n",
       "      <td>100.000000</td>\n",
       "      <td>100.00000</td>\n",
       "      <td>100.000000</td>\n",
       "      <td>100.000000</td>\n",
       "      <td>100.0000</td>\n",
       "      <td>100.000000</td>\n",
       "      <td>100.000000</td>\n",
       "      <td>100.000000</td>\n",
       "      <td>100.000000</td>\n",
       "      <td>100.000000</td>\n",
       "    </tr>\n",
       "    <tr>\n",
       "      <th>mean</th>\n",
       "      <td>10.760000</td>\n",
       "      <td>10.130000</td>\n",
       "      <td>10.49000</td>\n",
       "      <td>10.930000</td>\n",
       "      <td>11.160000</td>\n",
       "      <td>11.0800</td>\n",
       "      <td>10.740000</td>\n",
       "      <td>10.430000</td>\n",
       "      <td>11.540000</td>\n",
       "      <td>11.430000</td>\n",
       "      <td>3.970000</td>\n",
       "    </tr>\n",
       "    <tr>\n",
       "      <th>std</th>\n",
       "      <td>6.032103</td>\n",
       "      <td>5.866624</td>\n",
       "      <td>5.50022</td>\n",
       "      <td>5.659095</td>\n",
       "      <td>5.790483</td>\n",
       "      <td>5.5134</td>\n",
       "      <td>5.955424</td>\n",
       "      <td>5.742373</td>\n",
       "      <td>6.307635</td>\n",
       "      <td>6.238128</td>\n",
       "      <td>1.572844</td>\n",
       "    </tr>\n",
       "    <tr>\n",
       "      <th>min</th>\n",
       "      <td>1.000000</td>\n",
       "      <td>1.000000</td>\n",
       "      <td>1.00000</td>\n",
       "      <td>1.000000</td>\n",
       "      <td>1.000000</td>\n",
       "      <td>1.0000</td>\n",
       "      <td>1.000000</td>\n",
       "      <td>1.000000</td>\n",
       "      <td>1.000000</td>\n",
       "      <td>1.000000</td>\n",
       "      <td>2.000000</td>\n",
       "    </tr>\n",
       "    <tr>\n",
       "      <th>25%</th>\n",
       "      <td>5.000000</td>\n",
       "      <td>5.000000</td>\n",
       "      <td>6.75000</td>\n",
       "      <td>6.000000</td>\n",
       "      <td>6.000000</td>\n",
       "      <td>7.0000</td>\n",
       "      <td>5.000000</td>\n",
       "      <td>6.000000</td>\n",
       "      <td>6.000000</td>\n",
       "      <td>5.000000</td>\n",
       "      <td>3.000000</td>\n",
       "    </tr>\n",
       "    <tr>\n",
       "      <th>50%</th>\n",
       "      <td>12.000000</td>\n",
       "      <td>9.500000</td>\n",
       "      <td>10.00000</td>\n",
       "      <td>11.000000</td>\n",
       "      <td>11.000000</td>\n",
       "      <td>11.0000</td>\n",
       "      <td>11.000000</td>\n",
       "      <td>10.000000</td>\n",
       "      <td>13.000000</td>\n",
       "      <td>13.000000</td>\n",
       "      <td>4.000000</td>\n",
       "    </tr>\n",
       "    <tr>\n",
       "      <th>75%</th>\n",
       "      <td>16.000000</td>\n",
       "      <td>16.000000</td>\n",
       "      <td>15.00000</td>\n",
       "      <td>15.250000</td>\n",
       "      <td>16.000000</td>\n",
       "      <td>16.0000</td>\n",
       "      <td>16.000000</td>\n",
       "      <td>15.000000</td>\n",
       "      <td>17.000000</td>\n",
       "      <td>17.000000</td>\n",
       "      <td>5.000000</td>\n",
       "    </tr>\n",
       "    <tr>\n",
       "      <th>max</th>\n",
       "      <td>20.000000</td>\n",
       "      <td>20.000000</td>\n",
       "      <td>20.00000</td>\n",
       "      <td>20.000000</td>\n",
       "      <td>20.000000</td>\n",
       "      <td>20.0000</td>\n",
       "      <td>20.000000</td>\n",
       "      <td>20.000000</td>\n",
       "      <td>20.000000</td>\n",
       "      <td>20.000000</td>\n",
       "      <td>8.000000</td>\n",
       "    </tr>\n",
       "  </tbody>\n",
       "</table>\n",
       "</div>"
      ],
      "text/plain": [
       "         choice_0    choice_1   choice_2    choice_3    choice_4  choice_5  \\\n",
       "count  100.000000  100.000000  100.00000  100.000000  100.000000  100.0000   \n",
       "mean    10.760000   10.130000   10.49000   10.930000   11.160000   11.0800   \n",
       "std      6.032103    5.866624    5.50022    5.659095    5.790483    5.5134   \n",
       "min      1.000000    1.000000    1.00000    1.000000    1.000000    1.0000   \n",
       "25%      5.000000    5.000000    6.75000    6.000000    6.000000    7.0000   \n",
       "50%     12.000000    9.500000   10.00000   11.000000   11.000000   11.0000   \n",
       "75%     16.000000   16.000000   15.00000   15.250000   16.000000   16.0000   \n",
       "max     20.000000   20.000000   20.00000   20.000000   20.000000   20.0000   \n",
       "\n",
       "         choice_6    choice_7    choice_8    choice_9    n_people  \n",
       "count  100.000000  100.000000  100.000000  100.000000  100.000000  \n",
       "mean    10.740000   10.430000   11.540000   11.430000    3.970000  \n",
       "std      5.955424    5.742373    6.307635    6.238128    1.572844  \n",
       "min      1.000000    1.000000    1.000000    1.000000    2.000000  \n",
       "25%      5.000000    6.000000    6.000000    5.000000    3.000000  \n",
       "50%     11.000000   10.000000   13.000000   13.000000    4.000000  \n",
       "75%     16.000000   15.000000   17.000000   17.000000    5.000000  \n",
       "max     20.000000   20.000000   20.000000   20.000000    8.000000  "
      ]
     },
     "execution_count": 13,
     "metadata": {},
     "output_type": "execute_result"
    }
   ],
   "source": [
    "df2.describe()"
   ]
  },
  {
   "cell_type": "code",
   "execution_count": 14,
   "metadata": {},
   "outputs": [
    {
     "data": {
      "text/plain": [
       "<matplotlib.axes._subplots.AxesSubplot at 0x7f5e4e1fbb50>"
      ]
     },
     "execution_count": 14,
     "metadata": {},
     "output_type": "execute_result"
    },
    {
     "data": {
      "image/png": "[encoded data removed]",
      "text/plain": [
       "<Figure size 432x288 with 1 Axes>"
      ]
     },
     "metadata": {
      "needs_background": "light"
     },
     "output_type": "display_data"
    }
   ],
   "source": [
    "df2['choice_0'].hist(bins=[b for b in range(1,num_days+2,1)])"
   ]
  },
  {
   "cell_type": "code",
   "execution_count": 15,
   "metadata": {},
   "outputs": [],
   "source": [
    "lower_limit = min_people\n",
    "upper_limit = max_people\n",
    "\n",
    "# creating the decision variables\n",
    "choice = ['choice_0','choice_1', 'choice_2', 'choice_3', 'choice_4', 'choice_5', \n",
    "          'choice_6', 'choice_7', 'choice_8', 'choice_9','choice_10']\n",
    "day = [i for i in range(1,num_days+1)]\n",
    "fam_id = df2.index.tolist()"
   ]
  },
  {
   "cell_type": "markdown",
   "metadata": {},
   "source": [
    "The decision variable needs to be a boolean for each choice for each family. We will create a "
   ]
  },
  {
   "cell_type": "code",
   "execution_count": 16,
   "metadata": {},
   "outputs": [],
   "source": [
    "# The prob variable is created to contain the problem data        \n",
    "prob = LpProblem(\"Santa\",LpMinimize)"
   ]
  },
  {
   "cell_type": "code",
   "execution_count": 17,
   "metadata": {},
   "outputs": [],
   "source": [
    "# The decision variables are actually the family and the day they are assigned\n",
    "selection = LpVariable.dicts(\"sel\",(fam_id,day),0,1,LpInteger)"
   ]
  },
  {
   "cell_type": "code",
   "execution_count": 18,
   "metadata": {},
   "outputs": [],
   "source": [
    "# adding in the constraints\n",
    "\n",
    "# The first set of constraints ensures each family only has a single day selected\n",
    "for f in fam_id:\n",
    "        prob += lpSum([selection[f][d] for d in day]) == 1, ''"
   ]
  },
  {
   "cell_type": "code",
   "execution_count": 19,
   "metadata": {},
   "outputs": [],
   "source": [
    "# the second set of constraints guarantee that the total number of visitors is between 125 and 300 for\n",
    "# for every single day leading up to christmas\n",
    "\n",
    "for d in day:\n",
    "    prob += lpSum([selection[f][d]*df2['n_people'][f] for f in fam_id]) >= lower_limit, ''\n",
    "    prob += lpSum([selection[f][d]*df2['n_people'][f] for f in fam_id]) <= upper_limit, ''"
   ]
  },
  {
   "cell_type": "markdown",
   "metadata": {},
   "source": [
    "Now we need to write down the objective function. How do we figure out how to flag for choice? Can we create a vector of choice for each family member?\n",
    "\n",
    "Can we do some sort of mod of the day in the choice dictionary over the selected day?\n",
    "\n",
    "I think we need to place a vector of length 11 in every single day for every single family. The location that is 1 will be the choice for that day. If the day is not one of the choices, the 11th element will be 1. This will then be used to multiply by the matrix for penalties.\n",
    "\n",
    "Need to do some sort of "
   ]
  },
  {
   "cell_type": "code",
   "execution_count": null,
   "metadata": {},
   "outputs": [],
   "source": []
  },
  {
   "cell_type": "code",
   "execution_count": 20,
   "metadata": {},
   "outputs": [
    {
     "name": "stdout",
     "output_type": "stream",
     "text": [
      "0/100\n"
     ]
    }
   ],
   "source": [
    "choice_matrix = {}\n",
    "\n",
    "for f in fam_id:\n",
    "    \n",
    "    if f%100==0:\n",
    "        print('{}/{}'.format(f,len(df2)))\n",
    "    \n",
    "    choice_matrix[f] = {}\n",
    "    \n",
    "    for d in day:\n",
    "        \n",
    "        choice_to_check = df2.loc[f,df2.columns.tolist()[:10]].values\n",
    "        \n",
    "        if d in choice_to_check:\n",
    "            c_loc = np.where(choice_to_check==d)[0][0]\n",
    "        else:\n",
    "            c_loc = 10\n",
    "            \n",
    "            \n",
    "        choice_matrix[f][d] = {c:(0 if i!=c_loc else 1) for i,c in enumerate(choice)} "
   ]
  },
  {
   "cell_type": "code",
   "execution_count": 21,
   "metadata": {},
   "outputs": [
    {
     "data": {
      "text/plain": [
       "{'choice_0': 0,\n",
       " 'choice_1': 0,\n",
       " 'choice_2': 0,\n",
       " 'choice_3': 0,\n",
       " 'choice_4': 0,\n",
       " 'choice_5': 0,\n",
       " 'choice_6': 0,\n",
       " 'choice_7': 0,\n",
       " 'choice_8': 0,\n",
       " 'choice_9': 0,\n",
       " 'choice_10': 1}"
      ]
     },
     "execution_count": 21,
     "metadata": {},
     "output_type": "execute_result"
    }
   ],
   "source": [
    "choice_matrix[0][16]"
   ]
  },
  {
   "cell_type": "code",
   "execution_count": 22,
   "metadata": {},
   "outputs": [],
   "source": [
    "# gift card contribution by choice\n",
    "choice_gc = {}\n",
    "choice_gc['choice_0'] = 0\n",
    "choice_gc['choice_1'] = 50\n",
    "choice_gc['choice_2'] = 50\n",
    "choice_gc['choice_3'] = 100\n",
    "choice_gc['choice_4'] = 200\n",
    "choice_gc['choice_5'] = 200\n",
    "choice_gc['choice_6'] = 300\n",
    "choice_gc['choice_7'] = 300\n",
    "choice_gc['choice_8'] = 400\n",
    "choice_gc['choice_9'] = 500\n",
    "choice_gc['choice_10'] = 500\n",
    "\n",
    "# per member monetary contribution\n",
    "choice_pm = {}\n",
    "choice_pm['choice_0'] = 0\n",
    "choice_pm['choice_1'] = 0\n",
    "choice_pm['choice_2'] = 9\n",
    "choice_pm['choice_3'] = 9\n",
    "choice_pm['choice_4'] = 9\n",
    "choice_pm['choice_5'] = 18\n",
    "choice_pm['choice_6'] = 18\n",
    "choice_pm['choice_7'] = 36\n",
    "choice_pm['choice_8'] = 36\n",
    "choice_pm['choice_9'] = 36+199\n",
    "choice_pm['choice_10'] = 36+398\n"
   ]
  },
  {
   "cell_type": "code",
   "execution_count": 23,
   "metadata": {},
   "outputs": [],
   "source": [
    "def ppd(d):\n",
    "    if d>num_days:\n",
    "        d=num_days\n",
    "    return lpSum([selection[f][d]*df2['n_people'][f] for f in fam_id])\n",
    "\n",
    "\n",
    "def accounting_penalty():\n",
    "    return lpSum( [ 400/max_people*(0.055*(ppd(d)+(125-min_people)) - 6.8) for d in day] )"
   ]
  },
  {
   "cell_type": "code",
   "execution_count": 24,
   "metadata": {},
   "outputs": [],
   "source": [
    "\n",
    "prob += lpSum([selection[f][d]*choice_matrix[f][d][c]*(choice_gc[c]+df2['n_people'][f]*choice_pm[c])\n",
    "               for c in choice for d in day for f in fam_id]) \\\n",
    "        + accounting_penalty() \\\n",
    "                 , 'Objective Function'"
   ]
  },
  {
   "cell_type": "code",
   "execution_count": null,
   "metadata": {},
   "outputs": [],
   "source": [
    "prob += lpSum([selection[f][d]*choice_matrix[f][d][c]*(choice_gc[c]+df2['n_people'][f]*choice_pm[c])\n",
    "               for c in choice for d in day for f in fam_id]) \\\n",
    "        , 'Objective Function'"
   ]
  },
  {
   "cell_type": "code",
   "execution_count": 25,
   "metadata": {},
   "outputs": [],
   "source": [
    "import time\n",
    "\n"
   ]
  },
  {
   "cell_type": "code",
   "execution_count": 26,
   "metadata": {},
   "outputs": [
    {
     "name": "stdout",
     "output_type": "stream",
     "text": [
      "1576179620.3685122\n",
      "1576179620.543252\n",
      "Total Minutes: 0.0029123306274414064\n"
     ]
    }
   ],
   "source": [
    "tm = time.time()\n",
    "print(tm)\n",
    "\n",
    "prob.solve()\n",
    "\n",
    "tm_final = time.time()\n",
    "print(tm_final)\n",
    "\n",
    "print('Total Minutes: {}'.format( (tm_final-tm)/60))"
   ]
  },
  {
   "cell_type": "code",
   "execution_count": 27,
   "metadata": {},
   "outputs": [
    {
     "name": "stdout",
     "output_type": "stream",
     "text": [
      "Status: Optimal\n"
     ]
    }
   ],
   "source": [
    "# The status of the solution is printed to the screen\n",
    "print(\"Status:\", LpStatus[prob.status])"
   ]
  },
  {
   "cell_type": "code",
   "execution_count": 28,
   "metadata": {},
   "outputs": [
    {
     "name": "stdout",
     "output_type": "stream",
     "text": [
      "247.1921766187586\n"
     ]
    }
   ],
   "source": [
    "obj = value(prob.objective)\n",
    "print(obj)"
   ]
  },
  {
   "cell_type": "code",
   "execution_count": 30,
   "metadata": {},
   "outputs": [],
   "source": [
    "fam_day_dict = {}\n",
    "\n",
    "for f in fam_id:\n",
    "    for d in day:\n",
    "        if value(selection[f][d])==1:\n",
    "            fam_day_dict[f] = d"
   ]
  },
  {
   "cell_type": "code",
   "execution_count": 34,
   "metadata": {},
   "outputs": [],
   "source": [
    "sel_series = pd.Series(fam_day_dict,name='selection')"
   ]
  },
  {
   "cell_type": "code",
   "execution_count": 35,
   "metadata": {},
   "outputs": [
    {
     "data": {
      "text/plain": [
       "0      1\n",
       "1     18\n",
       "2      1\n",
       "3      8\n",
       "4     19\n",
       "      ..\n",
       "95     2\n",
       "96    11\n",
       "97    17\n",
       "98    13\n",
       "99    17\n",
       "Name: selection, Length: 100, dtype: int64"
      ]
     },
     "execution_count": 35,
     "metadata": {},
     "output_type": "execute_result"
    }
   ],
   "source": [
    "sel_series"
   ]
  },
  {
   "cell_type": "code",
   "execution_count": 36,
   "metadata": {},
   "outputs": [],
   "source": [
    "df2 = df2.join(sel_series)"
   ]
  },
  {
   "cell_type": "code",
   "execution_count": 37,
   "metadata": {},
   "outputs": [
    {
     "data": {
      "text/html": [
       "<div>\n",
       "<style scoped>\n",
       "    .dataframe tbody tr th:only-of-type {\n",
       "        vertical-align: middle;\n",
       "    }\n",
       "\n",
       "    .dataframe tbody tr th {\n",
       "        vertical-align: top;\n",
       "    }\n",
       "\n",
       "    .dataframe thead th {\n",
       "        text-align: right;\n",
       "    }\n",
       "</style>\n",
       "<table border=\"1\" class=\"dataframe\">\n",
       "  <thead>\n",
       "    <tr style=\"text-align: right;\">\n",
       "      <th></th>\n",
       "      <th>choice_0</th>\n",
       "      <th>choice_1</th>\n",
       "      <th>choice_2</th>\n",
       "      <th>choice_3</th>\n",
       "      <th>choice_4</th>\n",
       "      <th>choice_5</th>\n",
       "      <th>choice_6</th>\n",
       "      <th>choice_7</th>\n",
       "      <th>choice_8</th>\n",
       "      <th>choice_9</th>\n",
       "      <th>n_people</th>\n",
       "      <th>selection</th>\n",
       "    </tr>\n",
       "    <tr>\n",
       "      <th>family_id</th>\n",
       "      <th></th>\n",
       "      <th></th>\n",
       "      <th></th>\n",
       "      <th></th>\n",
       "      <th></th>\n",
       "      <th></th>\n",
       "      <th></th>\n",
       "      <th></th>\n",
       "      <th></th>\n",
       "      <th></th>\n",
       "      <th></th>\n",
       "      <th></th>\n",
       "    </tr>\n",
       "  </thead>\n",
       "  <tbody>\n",
       "    <tr>\n",
       "      <th>0</th>\n",
       "      <td>1</td>\n",
       "      <td>17</td>\n",
       "      <td>15</td>\n",
       "      <td>10</td>\n",
       "      <td>19</td>\n",
       "      <td>18</td>\n",
       "      <td>19</td>\n",
       "      <td>11</td>\n",
       "      <td>13</td>\n",
       "      <td>9</td>\n",
       "      <td>4</td>\n",
       "      <td>1</td>\n",
       "    </tr>\n",
       "    <tr>\n",
       "      <th>1</th>\n",
       "      <td>18</td>\n",
       "      <td>7</td>\n",
       "      <td>14</td>\n",
       "      <td>7</td>\n",
       "      <td>9</td>\n",
       "      <td>9</td>\n",
       "      <td>11</td>\n",
       "      <td>15</td>\n",
       "      <td>2</td>\n",
       "      <td>18</td>\n",
       "      <td>4</td>\n",
       "      <td>18</td>\n",
       "    </tr>\n",
       "    <tr>\n",
       "      <th>2</th>\n",
       "      <td>1</td>\n",
       "      <td>12</td>\n",
       "      <td>6</td>\n",
       "      <td>1</td>\n",
       "      <td>14</td>\n",
       "      <td>14</td>\n",
       "      <td>17</td>\n",
       "      <td>17</td>\n",
       "      <td>18</td>\n",
       "      <td>16</td>\n",
       "      <td>3</td>\n",
       "      <td>1</td>\n",
       "    </tr>\n",
       "    <tr>\n",
       "      <th>3</th>\n",
       "      <td>8</td>\n",
       "      <td>18</td>\n",
       "      <td>14</td>\n",
       "      <td>18</td>\n",
       "      <td>2</td>\n",
       "      <td>14</td>\n",
       "      <td>8</td>\n",
       "      <td>18</td>\n",
       "      <td>3</td>\n",
       "      <td>15</td>\n",
       "      <td>2</td>\n",
       "      <td>8</td>\n",
       "    </tr>\n",
       "    <tr>\n",
       "      <th>4</th>\n",
       "      <td>19</td>\n",
       "      <td>1</td>\n",
       "      <td>7</td>\n",
       "      <td>12</td>\n",
       "      <td>15</td>\n",
       "      <td>18</td>\n",
       "      <td>19</td>\n",
       "      <td>10</td>\n",
       "      <td>7</td>\n",
       "      <td>20</td>\n",
       "      <td>4</td>\n",
       "      <td>19</td>\n",
       "    </tr>\n",
       "  </tbody>\n",
       "</table>\n",
       "</div>"
      ],
      "text/plain": [
       "           choice_0  choice_1  choice_2  choice_3  choice_4  choice_5  \\\n",
       "family_id                                                               \n",
       "0                 1        17        15        10        19        18   \n",
       "1                18         7        14         7         9         9   \n",
       "2                 1        12         6         1        14        14   \n",
       "3                 8        18        14        18         2        14   \n",
       "4                19         1         7        12        15        18   \n",
       "\n",
       "           choice_6  choice_7  choice_8  choice_9  n_people  selection  \n",
       "family_id                                                               \n",
       "0                19        11        13         9         4          1  \n",
       "1                11        15         2        18         4         18  \n",
       "2                17        17        18        16         3          1  \n",
       "3                 8        18         3        15         2          8  \n",
       "4                19        10         7        20         4         19  "
      ]
     },
     "execution_count": 37,
     "metadata": {},
     "output_type": "execute_result"
    }
   ],
   "source": [
    "df2.head()"
   ]
  },
  {
   "cell_type": "code",
   "execution_count": null,
   "metadata": {},
   "outputs": [],
   "source": []
  },
  {
   "cell_type": "code",
   "execution_count": null,
   "metadata": {},
   "outputs": [],
   "source": []
  },
  {
   "cell_type": "code",
   "execution_count": null,
   "metadata": {},
   "outputs": [],
   "source": [
    "t = df.loc[0,df.columns.tolist()[:10]].values"
   ]
  },
  {
   "cell_type": "code",
   "execution_count": null,
   "metadata": {},
   "outputs": [],
   "source": [
    "val = 28\n",
    "\n",
    "if val in t:\n",
    "    loc = np.where(t==val)[0][0]\n",
    "else:\n",
    "    loc = 10\n",
    "    \n",
    "print(loc)"
   ]
  },
  {
   "cell_type": "code",
   "execution_count": null,
   "metadata": {},
   "outputs": [],
   "source": [
    "501%50"
   ]
  },
  {
   "cell_type": "code",
   "execution_count": null,
   "metadata": {},
   "outputs": [],
   "source": [
    "x = [0,1,2]\n",
    "y = [3,4,5]\n",
    "z = [6,7,8]"
   ]
  },
  {
   "cell_type": "code",
   "execution_count": null,
   "metadata": {},
   "outputs": [],
   "source": [
    "l = [a*b*c for a in x for b in y for c in z]"
   ]
  },
  {
   "cell_type": "code",
   "execution_count": null,
   "metadata": {},
   "outputs": [],
   "source": [
    "len(l)"
   ]
  },
  {
   "cell_type": "code",
   "execution_count": null,
   "metadata": {},
   "outputs": [],
   "source": [
    "2**(2+1)"
   ]
  },
  {
   "cell_type": "code",
   "execution_count": null,
   "metadata": {},
   "outputs": [],
   "source": [
    "abs(-10.1)"
   ]
  },
  {
   "cell_type": "code",
   "execution_count": null,
   "metadata": {},
   "outputs": [],
   "source": [
    "200*500 + df.n_people.sum()*choice_pm['choice_10']"
   ]
  },
  {
   "cell_type": "code",
   "execution_count": null,
   "metadata": {},
   "outputs": [],
   "source": [
    "df.n_people.sum()"
   ]
  },
  {
   "cell_type": "code",
   "execution_count": null,
   "metadata": {},
   "outputs": [],
   "source": [
    "df.n_people.sum()/20"
   ]
  },
  {
   "cell_type": "code",
   "execution_count": null,
   "metadata": {},
   "outputs": [],
   "source": [
    "def accounting_penalty(x):\n",
    "    return (x-125)/400 * x**(0.5)*x**(10*np.exp(-(x-125)/100)/50)\n",
    "\n",
    "def accounting_penalty_lin(x):\n",
    "    return 400/max_people*(0.055*(x+(125-min_people))-6.8)"
   ]
  },
  {
   "cell_type": "code",
   "execution_count": null,
   "metadata": {},
   "outputs": [],
   "source": [
    "x1 = np.arange(125,400,1)\n",
    "x2 = np.arange(min_people,max_people,1)"
   ]
  },
  {
   "cell_type": "code",
   "execution_count": null,
   "metadata": {},
   "outputs": [],
   "source": [
    "y1 = accounting_penalty(x1)\n",
    "y2 = accounting_penalty_lin(x2)"
   ]
  },
  {
   "cell_type": "code",
   "execution_count": null,
   "metadata": {},
   "outputs": [],
   "source": [
    "y = lambda x: x**(1/5)"
   ]
  },
  {
   "cell_type": "code",
   "execution_count": null,
   "metadata": {},
   "outputs": [],
   "source": [
    "#plt.plot(x1,y1)\n",
    "plt.plot(x2,y2)"
   ]
  },
  {
   "cell_type": "code",
   "execution_count": null,
   "metadata": {},
   "outputs": [],
   "source": [
    "plt.plot(x,y)"
   ]
  },
  {
   "cell_type": "code",
   "execution_count": null,
   "metadata": {},
   "outputs": [],
   "source": [
    "max(y)"
   ]
  },
  {
   "cell_type": "code",
   "execution_count": null,
   "metadata": {},
   "outputs": [],
   "source": [
    "15/275"
   ]
  },
  {
   "cell_type": "code",
   "execution_count": null,
   "metadata": {},
   "outputs": [],
   "source": [
    "15/275*125"
   ]
  },
  {
   "cell_type": "code",
   "execution_count": null,
   "metadata": {},
   "outputs": [],
   "source": [
    "plt.plot(x1,(x1-125)/400 * x1**(0.5))"
   ]
  },
  {
   "cell_type": "code",
   "execution_count": null,
   "metadata": {},
   "outputs": [],
   "source": [
    "(400-125)/100"
   ]
  },
  {
   "cell_type": "code",
   "execution_count": null,
   "metadata": {},
   "outputs": [],
   "source": [
    "c = df['']"
   ]
  },
  {
   "cell_type": "markdown",
   "metadata": {},
   "source": [
    "Some boneheaded approximations would estimate the accounting penalty to be y(d) = 0.55*d-6.8"
   ]
  },
  {
   "cell_type": "code",
   "execution_count": null,
   "metadata": {},
   "outputs": [],
   "source": [
    "# day scaling\n",
    "day_scale = num_days/100"
   ]
  },
  {
   "cell_type": "code",
   "execution_count": null,
   "metadata": {},
   "outputs": [],
   "source": [
    "#people scaling \n",
    "people_scale = df2.n_people.sum()/df.n_people.sum()"
   ]
  },
  {
   "cell_type": "code",
   "execution_count": null,
   "metadata": {},
   "outputs": [],
   "source": [
    "125*people_scale"
   ]
  },
  {
   "cell_type": "code",
   "execution_count": null,
   "metadata": {},
   "outputs": [],
   "source": [
    "df.n_people.sum()"
   ]
  },
  {
   "cell_type": "code",
   "execution_count": null,
   "metadata": {},
   "outputs": [],
   "source": [
    "21003/100"
   ]
  },
  {
   "cell_type": "code",
   "execution_count": null,
   "metadata": {},
   "outputs": [],
   "source": [
    "200/20"
   ]
  },
  {
   "cell_type": "code",
   "execution_count": null,
   "metadata": {},
   "outputs": [],
   "source": [
    "min_people"
   ]
  },
  {
   "cell_type": "code",
   "execution_count": null,
   "metadata": {},
   "outputs": [],
   "source": [
    "max_people"
   ]
  },
  {
   "cell_type": "code",
   "execution_count": null,
   "metadata": {},
   "outputs": [],
   "source": [
    "v = prob.variables()[0]"
   ]
  },
  {
   "cell_type": "code",
   "execution_count": null,
   "metadata": {},
   "outputs": [],
   "source": [
    "v.name"
   ]
  },
  {
   "cell_type": "code",
   "execution_count": null,
   "metadata": {},
   "outputs": [],
   "source": [
    "print(v.varValue)"
   ]
  },
  {
   "cell_type": "code",
   "execution_count": null,
   "metadata": {},
   "outputs": [],
   "source": []
  }
 ],
 "metadata": {
  "kernelspec": {
   "display_name": "pulp-env",
   "language": "python",
   "name": "pulp-env"
  },
  "language_info": {
   "codemirror_mode": {
    "name": "ipython",
    "version": 3
   },
   "file_extension": ".py",
   "mimetype": "text/x-python",
   "name": "python",
   "nbconvert_exporter": "python",
   "pygments_lexer": "ipython3",
   "version": "3.7.5"
  }
 },
 "nbformat": 4,
 "nbformat_minor": 2
}
