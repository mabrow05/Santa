{
 "cells": [
  {
   "cell_type": "code",
   "execution_count": null,
   "metadata": {},
   "outputs": [],
   "source": [
    "import pandas as pd\n",
    "import numpy as np\n",
    "\n",
    "import matplotlib.pyplot as plt\n",
    "\n",
    "from pulp import *"
   ]
  },
  {
   "cell_type": "code",
   "execution_count": null,
   "metadata": {},
   "outputs": [],
   "source": [
    "# importing the data to take a look at what we have\n",
    "\n",
    "df = pd.read_csv('../data/family_data.csv',index_col=0)\n",
    "\n",
    "df.head()"
   ]
  },
  {
   "cell_type": "code",
   "execution_count": null,
   "metadata": {},
   "outputs": [],
   "source": [
    "# for testing\n",
    "num_days=100\n",
    "num_families = 5000"
   ]
  },
  {
   "cell_type": "code",
   "execution_count": null,
   "metadata": {},
   "outputs": [],
   "source": [
    "df2 = df[:num_families].copy()"
   ]
  },
  {
   "cell_type": "code",
   "execution_count": null,
   "metadata": {},
   "outputs": [],
   "source": [
    "#people scaling \n",
    "people_scale = df2.n_people.sum()/df.n_people.sum()\n",
    "\n",
    "max_people = np.around(1.5*df2.n_people.sum()/num_days)\n",
    "min_people = np.around(df2.n_people.sum()/2/num_days)\n",
    "\n",
    "if num_days==100 and num_families==5000:\n",
    "    max_people = 300\n",
    "    min_people = 125\n",
    "\n",
    "# day scaling\n",
    "day_scale = num_days/100"
   ]
  },
  {
   "cell_type": "code",
   "execution_count": null,
   "metadata": {},
   "outputs": [],
   "source": [
    "print(max_people)\n",
    "print(min_people)\n",
    "print(day_scale)\n",
    "print(people_scale)"
   ]
  },
  {
   "cell_type": "code",
   "execution_count": null,
   "metadata": {},
   "outputs": [],
   "source": [
    "if num_days!=100:\n",
    "    for c in df2.columns.tolist()[:10]:\n",
    "        df2[c] = np.random.randint(1,num_days+1,num_families)"
   ]
  },
  {
   "cell_type": "code",
   "execution_count": null,
   "metadata": {},
   "outputs": [],
   "source": [
    "df2.head()"
   ]
  },
  {
   "cell_type": "code",
   "execution_count": null,
   "metadata": {},
   "outputs": [],
   "source": [
    "# I'm going to add a column which will represent the choice falling outside of any of the given choices. \n",
    "# This will be choice_10, and it will be 101,,,"
   ]
  },
  {
   "cell_type": "code",
   "execution_count": null,
   "metadata": {},
   "outputs": [],
   "source": [
    "df2.describe()"
   ]
  },
  {
   "cell_type": "code",
   "execution_count": null,
   "metadata": {},
   "outputs": [],
   "source": [
    "df2['choice_0'].hist(bins=[b for b in range(1,num_days+2,1)])"
   ]
  },
  {
   "cell_type": "code",
   "execution_count": null,
   "metadata": {},
   "outputs": [],
   "source": [
    "lower_limit = min_people\n",
    "upper_limit = max_people\n",
    "\n",
    "# creating the decision variables\n",
    "choice = ['choice_0','choice_1', 'choice_2', 'choice_3', 'choice_4', 'choice_5', \n",
    "          'choice_6', 'choice_7', 'choice_8', 'choice_9','choice_10']\n",
    "day = [i for i in range(1,num_days+1)]\n",
    "fam_id = df2.index.tolist()"
   ]
  },
  {
   "cell_type": "markdown",
   "metadata": {},
   "source": [
    "Create a lookup table for the accounting penalty"
   ]
  },
  {
   "cell_type": "code",
   "execution_count": null,
   "metadata": {},
   "outputs": [],
   "source": [
    "def accounting_penalty_actual(Nd,diff):\n",
    "    return 300/max_people*(Nd-min_people)/400 * Nd**(0.5+diff/50)"
   ]
  },
  {
   "cell_type": "code",
   "execution_count": null,
   "metadata": {},
   "outputs": [],
   "source": [
    "acc_table = {}\n",
    "for Nd in range(int(min_people),int(max_people)+1,1):\n",
    "    acc_table[Nd] = [accounting_penalty_actual(Nd,diff) for diff in range(0,int(max_people-min_people)+1,1)]"
   ]
  },
  {
   "cell_type": "code",
   "execution_count": null,
   "metadata": {},
   "outputs": [],
   "source": [
    "plt.plot(np.arange(0,int(max_people-min_people+1),1),acc_table[int(min_people+10)][:int(max_people-min_people+1)])"
   ]
  },
  {
   "cell_type": "code",
   "execution_count": null,
   "metadata": {},
   "outputs": [],
   "source": []
  },
  {
   "cell_type": "markdown",
   "metadata": {},
   "source": [
    "The decision variable needs to be a boolean for each choice for each family. We will create a "
   ]
  },
  {
   "cell_type": "code",
   "execution_count": null,
   "metadata": {},
   "outputs": [],
   "source": [
    "# The prob variable is created to contain the problem data        \n",
    "prob = LpProblem(\"Santa\",LpMinimize)"
   ]
  },
  {
   "cell_type": "code",
   "execution_count": null,
   "metadata": {},
   "outputs": [],
   "source": [
    "# The decision variables are actually the family and the day they are assigned\n",
    "selection = LpVariable.dicts(\"sel\",(fam_id,day),0,1,LpInteger)"
   ]
  },
  {
   "cell_type": "code",
   "execution_count": null,
   "metadata": {},
   "outputs": [],
   "source": [
    "# adding in the constraints\n",
    "\n",
    "# The first set of constraints ensures each family only has a single day selected\n",
    "for f in fam_id:\n",
    "        prob += lpSum([selection[f][d] for d in day]) == 1, ''"
   ]
  },
  {
   "cell_type": "code",
   "execution_count": null,
   "metadata": {},
   "outputs": [],
   "source": [
    "# the second set of constraints guarantee that the total number of visitors is between 125 and 300 for\n",
    "# for every single day leading up to christmas\n",
    "\n",
    "for d in day:\n",
    "    prob += lpSum([selection[f][d]*df2['n_people'][f] for f in fam_id]) >= lower_limit, ''\n",
    "    prob += lpSum([selection[f][d]*df2['n_people'][f] for f in fam_id]) <= upper_limit, ''"
   ]
  },
  {
   "cell_type": "code",
   "execution_count": null,
   "metadata": {},
   "outputs": [],
   "source": [
    "def ppd(d):\n",
    "    if d>num_days:\n",
    "        d=num_days\n",
    "    return lpSum([selection[f][d]*df2['n_people'][f] for f in fam_id])"
   ]
  },
  {
   "cell_type": "code",
   "execution_count": null,
   "metadata": {},
   "outputs": [],
   "source": [
    "# adding this third constraint to prevent the difference between each day from climbing too high.\n",
    "max_diff = 50\n",
    "\n",
    "for d in day[0:len(day)-1]:\n",
    "    prob += ppd(d+1)-ppd(d) >= -max_diff, ''\n",
    "    prob += ppd(d+1)-ppd(d) <= max_diff, ''\n"
   ]
  },
  {
   "cell_type": "markdown",
   "metadata": {},
   "source": [
    "Now we need to write down the objective function. How do we figure out how to flag for choice? Can we create a vector of choice for each family member?\n",
    "\n",
    "Can we do some sort of mod of the day in the choice dictionary over the selected day?\n",
    "\n",
    "I think we need to place a vector of length 11 in every single day for every single family. The location that is 1 will be the choice for that day. If the day is not one of the choices, the 11th element will be 1. This will then be used to multiply by the matrix for penalties.\n",
    "\n",
    "Need to do some sort of "
   ]
  },
  {
   "cell_type": "code",
   "execution_count": null,
   "metadata": {},
   "outputs": [],
   "source": []
  },
  {
   "cell_type": "code",
   "execution_count": null,
   "metadata": {},
   "outputs": [],
   "source": [
    "choice_matrix = {}\n",
    "\n",
    "for f in fam_id:\n",
    "    \n",
    "    if f%100==0:\n",
    "        print('{}/{}'.format(f,len(df2)))\n",
    "    \n",
    "    choice_matrix[f] = {}\n",
    "    \n",
    "    for d in day:\n",
    "        \n",
    "        choice_to_check = df2.loc[f,df2.columns.tolist()[:10]].values\n",
    "        \n",
    "        if d in choice_to_check:\n",
    "            c_loc = np.where(choice_to_check==d)[0][0]\n",
    "        else:\n",
    "            c_loc = 10\n",
    "            \n",
    "            \n",
    "        choice_matrix[f][d] = {c:(0 if i!=c_loc else 1) for i,c in enumerate(choice)} "
   ]
  },
  {
   "cell_type": "code",
   "execution_count": null,
   "metadata": {},
   "outputs": [],
   "source": [
    "choice_matrix[0][16]"
   ]
  },
  {
   "cell_type": "code",
   "execution_count": null,
   "metadata": {},
   "outputs": [],
   "source": [
    "# gift card contribution by choice\n",
    "choice_gc = {}\n",
    "choice_gc['choice_0'] = 0\n",
    "choice_gc['choice_1'] = 50\n",
    "choice_gc['choice_2'] = 50\n",
    "choice_gc['choice_3'] = 100\n",
    "choice_gc['choice_4'] = 200\n",
    "choice_gc['choice_5'] = 200\n",
    "choice_gc['choice_6'] = 300\n",
    "choice_gc['choice_7'] = 300\n",
    "choice_gc['choice_8'] = 400\n",
    "choice_gc['choice_9'] = 500\n",
    "choice_gc['choice_10'] = 500\n",
    "\n",
    "# per member monetary contribution\n",
    "choice_pm = {}\n",
    "choice_pm['choice_0'] = 0\n",
    "choice_pm['choice_1'] = 0\n",
    "choice_pm['choice_2'] = 9\n",
    "choice_pm['choice_3'] = 9\n",
    "choice_pm['choice_4'] = 9\n",
    "choice_pm['choice_5'] = 18\n",
    "choice_pm['choice_6'] = 18\n",
    "choice_pm['choice_7'] = 36\n",
    "choice_pm['choice_8'] = 36\n",
    "choice_pm['choice_9'] = 36+199\n",
    "choice_pm['choice_10'] = 36+398\n"
   ]
  },
  {
   "cell_type": "code",
   "execution_count": null,
   "metadata": {},
   "outputs": [],
   "source": [
    "def ppd(d):\n",
    "    if d>num_days:\n",
    "        d=num_days\n",
    "    return lpSum([selection[f][d]*df2['n_people'][f] for f in fam_id])\n",
    "\n",
    "\n",
    "def accounting_penalty():\n",
    "    return lpSum( [ 300/max_people*(0.055*(ppd(d)+(125-min_people)) - 6.8) for d in day] )"
   ]
  },
  {
   "cell_type": "code",
   "execution_count": null,
   "metadata": {},
   "outputs": [],
   "source": [
    "\n",
    "#prob += lpSum([selection[f][d]*choice_matrix[f][d][c]*(choice_gc[c]+df2['n_people'][f]*choice_pm[c])\n",
    "#               for c in choice for d in day for f in fam_id]) \\\n",
    "#        + accounting_penalty() \\\n",
    " #                , 'Objective Function'"
   ]
  },
  {
   "cell_type": "code",
   "execution_count": null,
   "metadata": {},
   "outputs": [],
   "source": [
    "prob += lpSum([selection[f][d]*choice_matrix[f][d][c]*(choice_gc[c]+df2['n_people'][f]*choice_pm[c])\n",
    "               for c in choice for d in day for f in fam_id]) \\\n",
    "        , 'Objective Function'"
   ]
  },
  {
   "cell_type": "code",
   "execution_count": null,
   "metadata": {},
   "outputs": [],
   "source": [
    "import time\n",
    "\n"
   ]
  },
  {
   "cell_type": "code",
   "execution_count": null,
   "metadata": {},
   "outputs": [],
   "source": [
    "tm = time.time()\n",
    "print(tm)\n",
    "\n",
    "prob.solve()\n",
    "\n",
    "tm_final = time.time()\n",
    "print(tm_final)\n",
    "\n",
    "print('Total Minutes: {}'.format( (tm_final-tm)/60))"
   ]
  },
  {
   "cell_type": "code",
   "execution_count": null,
   "metadata": {},
   "outputs": [],
   "source": [
    "# The status of the solution is printed to the screen\n",
    "print(\"Status:\", LpStatus[prob.status])"
   ]
  },
  {
   "cell_type": "code",
   "execution_count": null,
   "metadata": {},
   "outputs": [],
   "source": [
    "obj = value(prob.objective)\n",
    "print(obj)"
   ]
  },
  {
   "cell_type": "code",
   "execution_count": null,
   "metadata": {},
   "outputs": [],
   "source": [
    "fam_day_dict = {}\n",
    "\n",
    "for f in fam_id:\n",
    "    for d in day:\n",
    "        if value(selection[f][d])==1:\n",
    "            fam_day_dict[f] = d"
   ]
  },
  {
   "cell_type": "code",
   "execution_count": null,
   "metadata": {},
   "outputs": [],
   "source": [
    "sel_series = pd.Series(fam_day_dict,name='assigned_day')"
   ]
  },
  {
   "cell_type": "code",
   "execution_count": null,
   "metadata": {},
   "outputs": [],
   "source": [
    "sel_series.hist(bins=[b for b in range(1,num_days+2,1)])"
   ]
  },
  {
   "cell_type": "code",
   "execution_count": null,
   "metadata": {},
   "outputs": [],
   "source": [
    "df2 = df2.join(sel_series)\n",
    "df2.head()"
   ]
  },
  {
   "cell_type": "code",
   "execution_count": null,
   "metadata": {},
   "outputs": [],
   "source": [
    "df2['assigned_day'].to_csv('submission.csv',header=True)"
   ]
  },
  {
   "cell_type": "code",
   "execution_count": null,
   "metadata": {},
   "outputs": [],
   "source": [
    "total_people = {}\n",
    "for d in day:\n",
    "    mask = df2['assigned_day']==d\n",
    "    total_people[d] = df2[mask].n_people.sum()\n",
    "    print(total_people[d])"
   ]
  },
  {
   "cell_type": "markdown",
   "metadata": {},
   "source": [
    "Calculating the actual objective for the problem"
   ]
  },
  {
   "cell_type": "code",
   "execution_count": null,
   "metadata": {},
   "outputs": [],
   "source": [
    "def accounting_penalty_actual(Nd,diff):\n",
    "    return 300/max_people*(Nd-min_people)/400 * Nd**(0.5+np.fabs(diff)/50)"
   ]
  },
  {
   "cell_type": "code",
   "execution_count": null,
   "metadata": {},
   "outputs": [],
   "source": [
    "total_accounting_penalty = sum([accounting_penalty_actual(total_people[d],total_people[d]-total_people[d+1])\n",
    "                                if d<100 \n",
    "                                else accounting_penalty_actual(total_people[d],0)\n",
    "                                for d in day])\n",
    "print(total_accounting_penalty)"
   ]
  },
  {
   "cell_type": "code",
   "execution_count": null,
   "metadata": {},
   "outputs": [],
   "source": [
    "final_score = value(prob.objective) + total_accounting_penalty\n",
    "print('Final Score: {}'.format(final_score))"
   ]
  },
  {
   "cell_type": "markdown",
   "metadata": {},
   "source": [
    "with a limit of 50, the final score was 7684"
   ]
  },
  {
   "cell_type": "code",
   "execution_count": null,
   "metadata": {},
   "outputs": [],
   "source": []
  },
  {
   "cell_type": "markdown",
   "metadata": {},
   "source": []
  },
  {
   "cell_type": "code",
   "execution_count": null,
   "metadata": {},
   "outputs": [],
   "source": [
    "t = df.loc[0,df.columns.tolist()[:10]].values"
   ]
  },
  {
   "cell_type": "code",
   "execution_count": null,
   "metadata": {},
   "outputs": [],
   "source": [
    "val = 28\n",
    "\n",
    "if val in t:\n",
    "    loc = np.where(t==val)[0][0]\n",
    "else:\n",
    "    loc = 10\n",
    "    \n",
    "print(loc)"
   ]
  },
  {
   "cell_type": "code",
   "execution_count": null,
   "metadata": {},
   "outputs": [],
   "source": [
    "501%50"
   ]
  },
  {
   "cell_type": "code",
   "execution_count": null,
   "metadata": {},
   "outputs": [],
   "source": [
    "x = [0,1,2]\n",
    "y = [3,4,5]\n",
    "z = [6,7,8]"
   ]
  },
  {
   "cell_type": "code",
   "execution_count": null,
   "metadata": {},
   "outputs": [],
   "source": [
    "l = [a*b*c for a in x for b in y for c in z]"
   ]
  },
  {
   "cell_type": "code",
   "execution_count": null,
   "metadata": {},
   "outputs": [],
   "source": [
    "len(l)"
   ]
  },
  {
   "cell_type": "code",
   "execution_count": null,
   "metadata": {},
   "outputs": [],
   "source": [
    "2**(2+1)"
   ]
  },
  {
   "cell_type": "code",
   "execution_count": null,
   "metadata": {},
   "outputs": [],
   "source": [
    "abs(-10.1)"
   ]
  },
  {
   "cell_type": "code",
   "execution_count": null,
   "metadata": {},
   "outputs": [],
   "source": [
    "200*500 + df.n_people.sum()*choice_pm['choice_10']"
   ]
  },
  {
   "cell_type": "code",
   "execution_count": null,
   "metadata": {},
   "outputs": [],
   "source": [
    "df.n_people.sum()"
   ]
  },
  {
   "cell_type": "code",
   "execution_count": null,
   "metadata": {},
   "outputs": [],
   "source": [
    "df.n_people.sum()/20"
   ]
  },
  {
   "cell_type": "code",
   "execution_count": null,
   "metadata": {},
   "outputs": [],
   "source": [
    "def accounting_penalty(x):\n",
    "    return (x-125)/400 * x**(0.5)*x**(10*np.exp(-(x-125)/100)/50)\n",
    "\n",
    "def accounting_penalty_lin(x):\n",
    "    return 300/max_people*(0.055*(x+(125-min_people))-6.8)"
   ]
  },
  {
   "cell_type": "code",
   "execution_count": null,
   "metadata": {},
   "outputs": [],
   "source": [
    "x1 = np.arange(125,300,1)\n",
    "x2 = np.arange(min_people,max_people,1)"
   ]
  },
  {
   "cell_type": "code",
   "execution_count": null,
   "metadata": {},
   "outputs": [],
   "source": [
    "y1 = accounting_penalty(x1)\n",
    "y2 = accounting_penalty_lin(x2)"
   ]
  },
  {
   "cell_type": "code",
   "execution_count": null,
   "metadata": {},
   "outputs": [],
   "source": [
    "plt.plot(x1,10*np.exp(-(x1-125)/100))"
   ]
  },
  {
   "cell_type": "code",
   "execution_count": null,
   "metadata": {},
   "outputs": [],
   "source": [
    "plt.plot(x1,x1**(0.5+0/50))"
   ]
  },
  {
   "cell_type": "code",
   "execution_count": null,
   "metadata": {},
   "outputs": [],
   "source": [
    "#plt.plot(x1,y1)\n",
    "plt.plot(x2,y2)"
   ]
  },
  {
   "cell_type": "code",
   "execution_count": null,
   "metadata": {},
   "outputs": [],
   "source": [
    "plt.plot(x,y)"
   ]
  },
  {
   "cell_type": "code",
   "execution_count": null,
   "metadata": {},
   "outputs": [],
   "source": [
    "max(y)"
   ]
  },
  {
   "cell_type": "code",
   "execution_count": null,
   "metadata": {},
   "outputs": [],
   "source": [
    "15/175"
   ]
  },
  {
   "cell_type": "code",
   "execution_count": null,
   "metadata": {},
   "outputs": [],
   "source": [
    "15/175*125"
   ]
  },
  {
   "cell_type": "code",
   "execution_count": null,
   "metadata": {},
   "outputs": [],
   "source": [
    "plt.plot(x1,(x1-125)/400 * x1**(0.5+50/50))"
   ]
  },
  {
   "cell_type": "code",
   "execution_count": null,
   "metadata": {},
   "outputs": [],
   "source": [
    "(400-125)/100"
   ]
  },
  {
   "cell_type": "code",
   "execution_count": null,
   "metadata": {},
   "outputs": [],
   "source": [
    "c = df['']"
   ]
  },
  {
   "cell_type": "markdown",
   "metadata": {},
   "source": [
    "Some boneheaded approximations would estimate the accounting penalty to be y(d) = 0.55*d-6.8"
   ]
  },
  {
   "cell_type": "code",
   "execution_count": null,
   "metadata": {},
   "outputs": [],
   "source": [
    "# day scaling\n",
    "day_scale = num_days/100"
   ]
  },
  {
   "cell_type": "code",
   "execution_count": null,
   "metadata": {},
   "outputs": [],
   "source": [
    "#people scaling \n",
    "people_scale = df2.n_people.sum()/df.n_people.sum()"
   ]
  },
  {
   "cell_type": "code",
   "execution_count": null,
   "metadata": {},
   "outputs": [],
   "source": [
    "125*people_scale"
   ]
  },
  {
   "cell_type": "code",
   "execution_count": null,
   "metadata": {},
   "outputs": [],
   "source": [
    "df.n_people.sum()"
   ]
  },
  {
   "cell_type": "code",
   "execution_count": null,
   "metadata": {},
   "outputs": [],
   "source": [
    "21003/100"
   ]
  },
  {
   "cell_type": "code",
   "execution_count": null,
   "metadata": {},
   "outputs": [],
   "source": [
    "200/20"
   ]
  },
  {
   "cell_type": "code",
   "execution_count": null,
   "metadata": {},
   "outputs": [],
   "source": [
    "min_people"
   ]
  },
  {
   "cell_type": "code",
   "execution_count": null,
   "metadata": {},
   "outputs": [],
   "source": [
    "max_people"
   ]
  },
  {
   "cell_type": "code",
   "execution_count": null,
   "metadata": {},
   "outputs": [],
   "source": [
    "v = prob.variables()[0]"
   ]
  },
  {
   "cell_type": "code",
   "execution_count": null,
   "metadata": {},
   "outputs": [],
   "source": [
    "v.name"
   ]
  },
  {
   "cell_type": "code",
   "execution_count": null,
   "metadata": {},
   "outputs": [],
   "source": [
    "print(v.varValue)"
   ]
  },
  {
   "cell_type": "code",
   "execution_count": null,
   "metadata": {},
   "outputs": [],
   "source": [
    "def accounting_penalty_actual(Nd,diff):\n",
    "    return (Nd-125)/400 * Nd**(0.5+diff/50)"
   ]
  },
  {
   "cell_type": "code",
   "execution_count": null,
   "metadata": {},
   "outputs": [],
   "source": [
    "acc_table = {}\n",
    "for Nd in range(125,301,1):\n",
    "    acc_table[Nd] = [accounting_penalty_actual(Nd,diff) for diff in range(0,176,1)]"
   ]
  },
  {
   "cell_type": "code",
   "execution_count": null,
   "metadata": {},
   "outputs": [],
   "source": [
    "acc_table[126][50]"
   ]
  },
  {
   "cell_type": "code",
   "execution_count": null,
   "metadata": {},
   "outputs": [],
   "source": [
    "r = 50\n",
    "plt.plot(np.arange(0,r,1),acc_table[300][:r])"
   ]
  },
  {
   "cell_type": "code",
   "execution_count": null,
   "metadata": {},
   "outputs": [],
   "source": [
    "d = [1,2,3,4,5]"
   ]
  },
  {
   "cell_type": "code",
   "execution_count": null,
   "metadata": {},
   "outputs": [],
   "source": [
    "d[0:len(d)-1]"
   ]
  },
  {
   "cell_type": "code",
   "execution_count": null,
   "metadata": {},
   "outputs": [],
   "source": []
  }
 ],
 "metadata": {
  "kernelspec": {
   "display_name": "pulp-env",
   "language": "python",
   "name": "pulp-env"
  },
  "language_info": {
   "codemirror_mode": {
    "name": "ipython",
    "version": 3
   },
   "file_extension": ".py",
   "mimetype": "text/x-python",
   "name": "python",
   "nbconvert_exporter": "python",
   "pygments_lexer": "ipython3",
   "version": "3.7.5"
  }
 },
 "nbformat": 4,
 "nbformat_minor": 2
}
