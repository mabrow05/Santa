{
 "cells": [
  {
   "cell_type": "code",
   "execution_count": null,
   "metadata": {},
   "outputs": [],
   "source": [
    "import pandas as pd\n",
    "import numpy as np\n",
    "\n",
    "import matplotlib.pyplot as plt\n",
    "\n",
    "from mip.model import *"
   ]
  },
  {
   "cell_type": "code",
   "execution_count": null,
   "metadata": {},
   "outputs": [],
   "source": [
    "# importing the data to take a look at what we have\n",
    "\n",
    "df = pd.read_csv('../data/family_data.csv',index_col=0)\n",
    "\n",
    "df.head()"
   ]
  },
  {
   "cell_type": "code",
   "execution_count": null,
   "metadata": {},
   "outputs": [],
   "source": [
    "# load the penalties for days with high traffic\n",
    "day_penalty = pd.read_csv('day_penalty.txt',sep='\\t',index_col=0)['penalty']\n",
    "day_penalty.head()"
   ]
  },
  {
   "cell_type": "code",
   "execution_count": null,
   "metadata": {},
   "outputs": [],
   "source": [
    "day_penalty[5]"
   ]
  },
  {
   "cell_type": "code",
   "execution_count": null,
   "metadata": {},
   "outputs": [],
   "source": [
    "# for testing\n",
    "num_days=100\n",
    "num_families = 5000"
   ]
  },
  {
   "cell_type": "code",
   "execution_count": null,
   "metadata": {},
   "outputs": [],
   "source": [
    "df2 = df[:num_families].copy()"
   ]
  },
  {
   "cell_type": "code",
   "execution_count": null,
   "metadata": {},
   "outputs": [],
   "source": [
    "#people scaling \n",
    "people_scale = df2.n_people.sum()/df.n_people.sum()\n",
    "\n",
    "max_people = np.around(1.5*df2.n_people.sum()/num_days)\n",
    "min_people = np.around(df2.n_people.sum()/2/num_days)\n",
    "\n",
    "if num_days==100 and num_families==5000:\n",
    "    max_people = 300\n",
    "    min_people = 125\n",
    "\n",
    "# day scaling\n",
    "day_scale = num_days/100"
   ]
  },
  {
   "cell_type": "code",
   "execution_count": null,
   "metadata": {},
   "outputs": [],
   "source": [
    "print(max_people)\n",
    "print(min_people)\n",
    "print(day_scale)\n",
    "print(people_scale)"
   ]
  },
  {
   "cell_type": "code",
   "execution_count": null,
   "metadata": {},
   "outputs": [],
   "source": [
    "if num_days!=100:\n",
    "    for c in df2.columns.tolist()[:10]:\n",
    "        df2[c] = np.random.randint(1,num_days+1,num_families)"
   ]
  },
  {
   "cell_type": "code",
   "execution_count": null,
   "metadata": {},
   "outputs": [],
   "source": [
    "df2.head()"
   ]
  },
  {
   "cell_type": "code",
   "execution_count": null,
   "metadata": {},
   "outputs": [],
   "source": [
    "# I'm going to add a column which will represent the choice falling outside of any of the given choices. \n",
    "# This will be choice_10, and it will be 101,,,"
   ]
  },
  {
   "cell_type": "code",
   "execution_count": null,
   "metadata": {},
   "outputs": [],
   "source": [
    "df2.describe()"
   ]
  },
  {
   "cell_type": "code",
   "execution_count": null,
   "metadata": {},
   "outputs": [],
   "source": [
    "df2['choice_0'].hist(bins=[b for b in range(1,num_days+2,1)])"
   ]
  },
  {
   "cell_type": "code",
   "execution_count": null,
   "metadata": {},
   "outputs": [],
   "source": [
    "lower_limit = min_people\n",
    "upper_limit = max_people\n",
    "\n",
    "# creating the decision variables\n",
    "choice = ['choice_0','choice_1', 'choice_2', 'choice_3', 'choice_4', 'choice_5', \n",
    "          'choice_6', 'choice_7', 'choice_8', 'choice_9','choice_10']\n",
    "day = [i for i in range(1,num_days+1)]\n",
    "fam_id = df2.index.tolist()\n",
    "n_people = df['n_people'].to_dict()\n",
    "npd = [n for n in range(min_people,max_people+1,1)]"
   ]
  },
  {
   "cell_type": "code",
   "execution_count": null,
   "metadata": {},
   "outputs": [],
   "source": [
    "choice_matrix = {}\n",
    "\n",
    "for f in fam_id:\n",
    "    \n",
    "    if f%100==0:\n",
    "        print('{}/{}'.format(f,len(df2)))\n",
    "    \n",
    "    choice_matrix[f] = {}\n",
    "    \n",
    "    for d in day:\n",
    "        \n",
    "        choice_to_check = df2.loc[f,df2.columns.tolist()[:10]].values\n",
    "        \n",
    "        if d in choice_to_check:\n",
    "            c_loc = np.where(choice_to_check==d)[0][0]\n",
    "        else:\n",
    "            c_loc = 10\n",
    "            \n",
    "            \n",
    "        choice_matrix[f][d] = {c:(0 if i!=c_loc else 1) for i,c in enumerate(choice)} "
   ]
  },
  {
   "cell_type": "code",
   "execution_count": null,
   "metadata": {},
   "outputs": [],
   "source": [
    "# gift card contribution by choice\n",
    "choice_gc = {}\n",
    "choice_gc['choice_0'] = 0\n",
    "choice_gc['choice_1'] = 50\n",
    "choice_gc['choice_2'] = 50\n",
    "choice_gc['choice_3'] = 100\n",
    "choice_gc['choice_4'] = 200\n",
    "choice_gc['choice_5'] = 200\n",
    "choice_gc['choice_6'] = 300\n",
    "choice_gc['choice_7'] = 300\n",
    "choice_gc['choice_8'] = 400\n",
    "choice_gc['choice_9'] = 500\n",
    "choice_gc['choice_10'] = 500\n",
    "\n",
    "# per member monetary contribution\n",
    "choice_pm = {}\n",
    "choice_pm['choice_0'] = 0\n",
    "choice_pm['choice_1'] = 0\n",
    "choice_pm['choice_2'] = 9\n",
    "choice_pm['choice_3'] = 9\n",
    "choice_pm['choice_4'] = 9\n",
    "choice_pm['choice_5'] = 18\n",
    "choice_pm['choice_6'] = 18\n",
    "choice_pm['choice_7'] = 36\n",
    "choice_pm['choice_8'] = 36\n",
    "choice_pm['choice_9'] = 36+199\n",
    "choice_pm['choice_10'] = 36+398\n"
   ]
  },
  {
   "cell_type": "markdown",
   "metadata": {},
   "source": [
    "Create a lookup table for the accounting penalty"
   ]
  },
  {
   "cell_type": "code",
   "execution_count": null,
   "metadata": {},
   "outputs": [],
   "source": [
    "def accounting_penalty_actual(Nd,Nd1):\n",
    "    diff = np.abs(Nd-Nd1)\n",
    "    return 300/max_people*(Nd-min_people)/400 * Nd**(0.5+diff/50)"
   ]
  },
  {
   "cell_type": "code",
   "execution_count": null,
   "metadata": {},
   "outputs": [],
   "source": [
    "acc_table = {}\n",
    "for Nd in npd:\n",
    "    for Nd1 in npd:\n",
    "        acc_table[(Nd,Nd1)] = accounting_penalty_actual(Nd,Nd1)"
   ]
  },
  {
   "cell_type": "code",
   "execution_count": null,
   "metadata": {},
   "outputs": [],
   "source": [
    "acc_table[(300,125)]"
   ]
  },
  {
   "cell_type": "code",
   "execution_count": null,
   "metadata": {},
   "outputs": [],
   "source": [
    "plt.plot(npd,[acc_table[(300,i)] for i in npd])"
   ]
  },
  {
   "cell_type": "code",
   "execution_count": null,
   "metadata": {},
   "outputs": [],
   "source": []
  },
  {
   "cell_type": "markdown",
   "metadata": {},
   "source": [
    "The decision variable needs to be a boolean for each choice for each family. We will create a "
   ]
  },
  {
   "cell_type": "code",
   "execution_count": null,
   "metadata": {},
   "outputs": [],
   "source": [
    "# set the parameters\n",
    "\n",
    "max_diff = 35 # this is the maximum difference between two days in total number of people\n",
    "w1 = 0 # this is the weight applied to the simple difference ppd(d)-ppd(d+1)\n",
    "w2 = 0 # this is the weight applied to the simple linear shopping penalty\n",
    "w3 = 10 # this is the multiplier for the day penalty for high traffic days"
   ]
  },
  {
   "cell_type": "code",
   "execution_count": null,
   "metadata": {},
   "outputs": [],
   "source": [
    "# The prob variable is created to contain the problem data        \n",
    "m = Model()"
   ]
  },
  {
   "cell_type": "code",
   "execution_count": null,
   "metadata": {},
   "outputs": [],
   "source": [
    "# The decision variables are actually the family and the day they are assigned\n",
    "x = [ [m.add_var(name='fam_{},day_{}'.format(f,d),var_type=BINARY) for d in day] for f in fam_id ]"
   ]
  },
  {
   "cell_type": "code",
   "execution_count": null,
   "metadata": {},
   "outputs": [],
   "source": [
    "y = [ [ [m.add_var(name='d_{}_nd_{}_nd1_{}'.format(d,nd,nd1),var_type=BINARY)#INTEGER, lb=min_people, ub=max_people)\n",
    "         for nd1 in npd]\n",
    "       for nd in npd]\n",
    "     for d in day]"
   ]
  },
  {
   "cell_type": "code",
   "execution_count": null,
   "metadata": {},
   "outputs": [],
   "source": [
    "def ppd_fast(di):\n",
    "    if di==num_days:\n",
    "        di = num_days-1\n",
    "    return xsum(x[fi][di]*n_people[f] for fi,f in enumerate(fam_id))\n",
    "\n",
    "def ppd(d):\n",
    "    if d>num_days:\n",
    "        d=num_days\n",
    "    di = day.index(d)\n",
    "    return xsum(x[fi][di]*n_people[f] for fi,f in enumerate(fam_id))"
   ]
  },
  {
   "cell_type": "code",
   "execution_count": null,
   "metadata": {},
   "outputs": [],
   "source": [
    "m.objective = minimize(xsum(x[fi][di]*choice_matrix[f][d][c]*(choice_gc[c] + n_people[f]*choice_pm[c])\n",
    "                       for c in choice for di,d in enumerate(day) for fi,f in enumerate(fam_id))\n",
    "                      + xsum(y[di][ndi][nd1i]*acc_table[(nd,nd1)] \n",
    "                             for nd1i,nd1 in enumerate(npd) \n",
    "                             for ndi,nd in enumerate(npd) \n",
    "                             for di,d in enumerate(day)))\n",
    "\n",
    "#m.objective = minimize(xsum(x[fi][di]*choice_matrix[f][d][c]*(choice_gc[c] + n_people[f]*choice_pm[c])\n",
    "#                            + ppd_fast(di)*(w1+w2) - w1*ppd_fast(di+1) - w2*125\n",
    "#         for c in choice for di,d in enumerate(day) for fi,f in enumerate(fam_id))) \n",
    "\n",
    "#m.objective = minimize(xsum(x[fi][di]*choice_matrix[f][d][c]*(choice_gc[c] + n_people[f]*choice_pm[c]+w3*day_penalty[d])\n",
    "#                       for c in choice for di,d in enumerate(day) for fi,f in enumerate(fam_id)))\n",
    "                       \n",
    "                      #+ xsum(ppd_fast(di)*(w1+w2) - w1*ppd_fast(di+1) - w2*125 for di,d in enumerate(day))) "
   ]
  },
  {
   "cell_type": "code",
   "execution_count": null,
   "metadata": {},
   "outputs": [],
   "source": []
  },
  {
   "cell_type": "code",
   "execution_count": null,
   "metadata": {},
   "outputs": [],
   "source": [
    "# adding in the constraints\n",
    "\n",
    "# The first set of constraints ensures each family only has a single day selected\n",
    "for fi,f in enumerate(fam_id):\n",
    "        m += xsum(x[fi][di] for di,d in enumerate(day)) == 1"
   ]
  },
  {
   "cell_type": "code",
   "execution_count": null,
   "metadata": {},
   "outputs": [],
   "source": [
    "# the second set of constraints guarantee that the total number of visitors is between 125 and 300 for\n",
    "# for every single day leading up to christmas\n",
    "\n",
    "for di,d in enumerate(day):\n",
    "    m += ppd(d) >= lower_limit, ''\n",
    "    m += ppd(d) <= upper_limit, ''"
   ]
  },
  {
   "cell_type": "code",
   "execution_count": null,
   "metadata": {},
   "outputs": [],
   "source": [
    "\n",
    "#my[d-1][ndi][nd1i] for nd1i,nd1 in enumerate(npd) for ndi,nd in enumerate(npd)\n",
    "\n",
    "for di,d in day[:]:\n",
    "    \n",
    "    # each day should only have 1 entry\n",
    "    m += xsum(y[di][ndi][nd1i] for nd1i,nd1 in enumerate(npd) for ndi,nd in enumerate(npd)) == 1\n",
    "    \n",
    "    # the number of people on day d needs to match\n",
    "    m += ppd(d) == xsum(y[di][ndi][nd1i]*nd for nd1i,nd1 in enumerate(npd) for ndi,nd in enumerate(npd))\n",
    "    \n",
    "for di,d in day[:-1]\n",
    "    # the number of people on the next day in the sum needs to match the next day\n",
    "    m += ppd(d+1) == xsum(y[di][ndi][nd1i]*nd1 for nd1i,nd1 in enumerate(npd) for ndi,nd in enumerate(npd))\n",
    "    \n",
    "# the last day needs to have the next day set to the last day number of people\n",
    "m += ppd(d[-1]) == xsum(y[-1][ndi][nd1i]*nd1 for nd1i,nd1 in enumerate(npd) for ndi,nd in enumerate(npd))"
   ]
  },
  {
   "cell_type": "code",
   "execution_count": null,
   "metadata": {},
   "outputs": [],
   "source": [
    "# adding this third constraint to prevent the difference between each day from climbing too high.\n",
    "\n",
    "#for di,d in enumerate(day[0:len(day)-1]):\n",
    "#    m += ppd(d)-ppd(d+1) >= -max_diff, ''\n",
    "#    m += ppd(d)-ppd(d+1) <= max_diff, ''\n"
   ]
  },
  {
   "cell_type": "code",
   "execution_count": null,
   "metadata": {},
   "outputs": [],
   "source": [
    "#m.max_gap = 0.05\n",
    "status = m.optimize(max_seconds=300)\n",
    "\n",
    "if status == OptimizationStatus.OPTIMAL:\n",
    "    print('optimal solution cost {} found'.format(m.objective_value))\n",
    "elif status == OptimizationStatus.FEASIBLE:\n",
    "    print('sol.cost {} found, best possible: {}'.format(m.objective_value, m.objective_bound))\n",
    "elif status == OptimizationStatus.NO_SOLUTION_FOUND:\n",
    "    print('no feasible solution found, lower bound is: {}'.format(m.objective_bound))\n"
   ]
  },
  {
   "cell_type": "code",
   "execution_count": null,
   "metadata": {},
   "outputs": [],
   "source": [
    "status"
   ]
  },
  {
   "cell_type": "code",
   "execution_count": null,
   "metadata": {},
   "outputs": [],
   "source": [
    "m.write('model.lp')"
   ]
  },
  {
   "cell_type": "code",
   "execution_count": null,
   "metadata": {},
   "outputs": [],
   "source": [
    "obj = m.objective_value\n",
    "print(obj)"
   ]
  },
  {
   "cell_type": "code",
   "execution_count": null,
   "metadata": {},
   "outputs": [],
   "source": [
    "fam_day_dict = {}\n",
    "\n",
    "for i,v in enumerate(m.vars):\n",
    "    \n",
    "    if i%10000==0:\n",
    "        print('{}/{}'.format(i,len(m.vars)))\n",
    "    if abs(v.x) > 1e-6: # only printing non-zeros\n",
    "        #print('{} : {}'.format(v.name, v.x))\n",
    "        s = v.name.split(',')\n",
    "        fam_day_dict[int(s[0][4:])] = int(s[1][4:])\n"
   ]
  },
  {
   "cell_type": "code",
   "execution_count": null,
   "metadata": {},
   "outputs": [],
   "source": [
    "sel_series = pd.Series(fam_day_dict,name='assigned_day')"
   ]
  },
  {
   "cell_type": "code",
   "execution_count": null,
   "metadata": {},
   "outputs": [],
   "source": [
    "len(sel_series)"
   ]
  },
  {
   "cell_type": "code",
   "execution_count": null,
   "metadata": {},
   "outputs": [],
   "source": [
    "sel_series.hist(bins=[b for b in range(1,num_days+2,1)])"
   ]
  },
  {
   "cell_type": "code",
   "execution_count": null,
   "metadata": {},
   "outputs": [],
   "source": [
    "#df2 = df2.join(sel_series)\n",
    "df2['assigned_day'] = sel_series.astype(int)\n",
    "#df2['assigned_day'] = df2.assigned_day.astype(int)\n",
    "df2.head()"
   ]
  },
  {
   "cell_type": "code",
   "execution_count": null,
   "metadata": {},
   "outputs": [],
   "source": [
    "df2[df2.assigned_day.isnull()]"
   ]
  },
  {
   "cell_type": "code",
   "execution_count": null,
   "metadata": {},
   "outputs": [],
   "source": [
    "total_people = {}\n",
    "for d in day:\n",
    "    mask = df2['assigned_day']==d\n",
    "    total_people[d] = df2[mask].n_people.sum()\n",
    "    print(total_people[d])"
   ]
  },
  {
   "cell_type": "markdown",
   "metadata": {},
   "source": [
    "Calculating the actual objective for the problem"
   ]
  },
  {
   "cell_type": "code",
   "execution_count": null,
   "metadata": {},
   "outputs": [],
   "source": [
    "def accounting_penalty_actual(Nd,diff):\n",
    "    return 300/max_people*(Nd-min_people)/400 * Nd**(0.5+np.fabs(diff)/50)"
   ]
  },
  {
   "cell_type": "code",
   "execution_count": null,
   "metadata": {},
   "outputs": [],
   "source": [
    "total_accounting_penalty = sum([accounting_penalty_actual(total_people[d],total_people[d]-total_people[d+1])\n",
    "                                if d<100 \n",
    "                                else accounting_penalty_actual(total_people[d],0)\n",
    "                                for d in day])\n",
    "print(total_accounting_penalty)"
   ]
  },
  {
   "cell_type": "code",
   "execution_count": null,
   "metadata": {},
   "outputs": [],
   "source": [
    "# Adding a column to the dataframe for the choice made...\n",
    "\n",
    "def choice_func(r):\n",
    "    if r['assigned_day'] in r.values[:10]:\n",
    "        return choice[list(r.values[:10]).index(r.assigned_day)]\n",
    "    else:\n",
    "        return 'choice_10'"
   ]
  },
  {
   "cell_type": "code",
   "execution_count": null,
   "metadata": {},
   "outputs": [],
   "source": [
    "df2['assigned_choice'] = df2.apply(choice_func,axis=1)\n",
    "df2[df2.assigned_choice=='choice_4'].head()"
   ]
  },
  {
   "cell_type": "code",
   "execution_count": null,
   "metadata": {},
   "outputs": [],
   "source": [
    "def simple_cost(r):\n",
    "    return choice_gc[r['assigned_choice']] + r['n_people']*choice_pm[r['assigned_choice']]"
   ]
  },
  {
   "cell_type": "code",
   "execution_count": null,
   "metadata": {},
   "outputs": [],
   "source": [
    "total_simple_cost = df2.apply(simple_cost,axis=1).sum()\n",
    "total_simple_cost"
   ]
  },
  {
   "cell_type": "code",
   "execution_count": null,
   "metadata": {},
   "outputs": [],
   "source": [
    "final_score = total_simple_cost + total_accounting_penalty\n",
    "print('Final Score: {}'.format(final_score))"
   ]
  },
  {
   "cell_type": "code",
   "execution_count": null,
   "metadata": {},
   "outputs": [],
   "source": [
    "df2['assigned_day'].to_csv('submission_80180.csv',header=True)"
   ]
  },
  {
   "cell_type": "code",
   "execution_count": null,
   "metadata": {},
   "outputs": [],
   "source": []
  },
  {
   "cell_type": "markdown",
   "metadata": {},
   "source": [
    "with a limit on the diff of 30 and solving for 500 seconds, the final score was 83115.97"
   ]
  },
  {
   "cell_type": "code",
   "execution_count": null,
   "metadata": {},
   "outputs": [],
   "source": [
    "plt.plot(list(total_people.keys()),list(total_people.values()))"
   ]
  },
  {
   "cell_type": "code",
   "execution_count": null,
   "metadata": {},
   "outputs": [],
   "source": [
    "# Creating penalties related to the days that have the highest consumption with no accounting\n",
    "\n",
    "# sort the days by the number of visitors\n",
    "sorted_days = {k: v for k, v in sorted(total_people.items(), key=lambda item: item[1],reverse=True)}\n",
    "\n",
    "plt.plot([i for i in range(100)],list(sorted_days.values()))"
   ]
  },
  {
   "cell_type": "code",
   "execution_count": null,
   "metadata": {},
   "outputs": [],
   "source": [
    "# Write the penalties to file\n",
    "with open('day_penalty.txt','w') as fout:\n",
    "    fout.write('day\\tpenalty\\n')\n",
    "    for k,v in sorted_days.items():\n",
    "        fout.write('{}\\t{}\\n'.format(k,v/125))\n",
    "        print('{}\\t{}'.format(k,v/125))\n",
    "        \n",
    "        \n",
    "    "
   ]
  },
  {
   "cell_type": "code",
   "execution_count": null,
   "metadata": {},
   "outputs": [],
   "source": []
  }
 ],
 "metadata": {
  "kernelspec": {
   "display_name": "MIP-env",
   "language": "python",
   "name": "mip-env"
  },
  "language_info": {
   "codemirror_mode": {
    "name": "ipython",
    "version": 3
   },
   "file_extension": ".py",
   "mimetype": "text/x-python",
   "name": "python",
   "nbconvert_exporter": "python",
   "pygments_lexer": "ipython3",
   "version": "3.7.5"
  }
 },
 "nbformat": 4,
 "nbformat_minor": 2
}
